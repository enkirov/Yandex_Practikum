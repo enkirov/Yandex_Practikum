{
  "cells": [
    {
      "cell_type": "markdown",
      "metadata": {
        "deletable": false,
        "editable": false,
        "id": "E0vqbgi9ay0H"
      },
      "source": [
        "# Яндекс Музыка"
      ]
    },
    {
      "cell_type": "markdown",
      "metadata": {
        "deletable": false,
        "editable": false,
        "id": "VUC88oWjTJw2"
      },
      "source": [
        "Сравнение Москвы и Петербурга окружено мифами. Например:\n",
        " * Москва — мегаполис, подчинённый жёсткому ритму рабочей недели;\n",
        " * Петербург — культурная столица, со своими вкусами.\n",
        "\n",
        "На данных Яндекс Музыки вы сравните поведение пользователей двух столиц.\n",
        "\n",
        "**Цель исследования** — проверьте три гипотезы:\n",
        "1. Активность пользователей зависит от дня недели. Причём в Москве и Петербурге это проявляется по-разному.\n",
        "2. В понедельник утром в Москве преобладают одни жанры, а в Петербурге — другие. Так же и вечером пятницы преобладают разные жанры — в зависимости от города.\n",
        "3. Москва и Петербург предпочитают разные жанры музыки. В Москве чаще слушают поп-музыку, в Петербурге — русский рэп.\n",
        "\n",
        "**Ход исследования**\n",
        "\n",
        "Данные о поведении пользователей вы получите из файла `yandex_music_project.csv`. О качестве данных ничего не известно. Поэтому перед проверкой гипотез понадобится обзор данных.\n",
        "\n",
        "Вы проверите данные на ошибки и оцените их влияние на исследование. Затем, на этапе предобработки вы поищете возможность исправить самые критичные ошибки данных.\n",
        "\n",
        "Таким образом, исследование пройдёт в три этапа:\n",
        " 1. Обзор данных.\n",
        " 2. Предобработка данных.\n",
        " 3. Проверка гипотез.\n",
        "\n"
      ]
    },
    {
      "cell_type": "markdown",
      "metadata": {
        "deletable": false,
        "editable": false,
        "id": "Ml1hmfXC_Zcs"
      },
      "source": [
        "## Обзор данных\n",
        "\n",
        "Составьте первое представление о данных Яндекс Музыки.\n",
        "\n",
        "\n"
      ]
    },
    {
      "cell_type": "markdown",
      "metadata": {
        "deletable": false,
        "editable": false,
        "id": "57eAOGIz_Zcs",
        "tags": [
          "start_task"
        ]
      },
      "source": [
        "Импортируем библиотеку"
      ]
    },
    {
      "cell_type": "code",
      "execution_count": 22,
      "metadata": {
        "deletable": false,
        "id": "AXN7PHPN_Zcs"
      },
      "outputs": [],
      "source": [
        "import pandas as pd"
      ]
    },
    {
      "cell_type": "markdown",
      "metadata": {
        "deletable": false,
        "editable": false,
        "id": "SG23P8tt_Zcs",
        "tags": [
          "start_task"
        ]
      },
      "source": [
        "Прочитаем файл `yandex_music_project.csv` из папки `/datasets` и сохраним его в переменной `df`:"
      ]
    },
    {
      "cell_type": "code",
      "execution_count": 23,
      "metadata": {
        "deletable": false,
        "id": "fFVu7vqh_Zct"
      },
      "outputs": [],
      "source": [
        "df = pd.read_csv('https://code.s3.yandex.net/datasets/yandex_music_project.csv')"
      ]
    },
    {
      "cell_type": "markdown",
      "metadata": {
        "deletable": false,
        "editable": false,
        "id": "rDoOMd3uTqnZ",
        "tags": [
          "start_task"
        ]
      },
      "source": [
        "Посмотрим на данные"
      ]
    },
    {
      "cell_type": "code",
      "execution_count": 24,
      "metadata": {
        "deletable": false,
        "id": "oWTVX3gW_Zct",
        "colab": {
          "base_uri": "https://localhost:8080/",
          "height": 206
        },
        "outputId": "57238040-27c7-45a0-c342-5d5cad4c8cdb"
      },
      "outputs": [
        {
          "output_type": "execute_result",
          "data": {
            "text/plain": [
              "     userID                        Track            artist  genre  \\\n",
              "0  FFB692EC            Kamigata To Boots  The Mass Missile   rock   \n",
              "1  55204538  Delayed Because of Accident  Andreas Rönnberg   rock   \n",
              "2    20EC38            Funiculì funiculà       Mario Lanza    pop   \n",
              "3  A3DD03C9        Dragons in the Sunset        Fire + Ice   folk   \n",
              "4  E2DC1FAE                  Soul People        Space Echo  dance   \n",
              "\n",
              "             City        time        Day  \n",
              "0  Saint-Petersburg  20:28:33  Wednesday  \n",
              "1            Moscow  14:07:09     Friday  \n",
              "2  Saint-Petersburg  20:58:07  Wednesday  \n",
              "3  Saint-Petersburg  08:37:09     Monday  \n",
              "4            Moscow  08:34:34     Monday  "
            ],
            "text/html": [
              "\n",
              "  <div id=\"df-25548f87-6465-4c65-a46b-5d45cf52ef8a\" class=\"colab-df-container\">\n",
              "    <div>\n",
              "<style scoped>\n",
              "    .dataframe tbody tr th:only-of-type {\n",
              "        vertical-align: middle;\n",
              "    }\n",
              "\n",
              "    .dataframe tbody tr th {\n",
              "        vertical-align: top;\n",
              "    }\n",
              "\n",
              "    .dataframe thead th {\n",
              "        text-align: right;\n",
              "    }\n",
              "</style>\n",
              "<table border=\"1\" class=\"dataframe\">\n",
              "  <thead>\n",
              "    <tr style=\"text-align: right;\">\n",
              "      <th></th>\n",
              "      <th>userID</th>\n",
              "      <th>Track</th>\n",
              "      <th>artist</th>\n",
              "      <th>genre</th>\n",
              "      <th>City</th>\n",
              "      <th>time</th>\n",
              "      <th>Day</th>\n",
              "    </tr>\n",
              "  </thead>\n",
              "  <tbody>\n",
              "    <tr>\n",
              "      <th>0</th>\n",
              "      <td>FFB692EC</td>\n",
              "      <td>Kamigata To Boots</td>\n",
              "      <td>The Mass Missile</td>\n",
              "      <td>rock</td>\n",
              "      <td>Saint-Petersburg</td>\n",
              "      <td>20:28:33</td>\n",
              "      <td>Wednesday</td>\n",
              "    </tr>\n",
              "    <tr>\n",
              "      <th>1</th>\n",
              "      <td>55204538</td>\n",
              "      <td>Delayed Because of Accident</td>\n",
              "      <td>Andreas Rönnberg</td>\n",
              "      <td>rock</td>\n",
              "      <td>Moscow</td>\n",
              "      <td>14:07:09</td>\n",
              "      <td>Friday</td>\n",
              "    </tr>\n",
              "    <tr>\n",
              "      <th>2</th>\n",
              "      <td>20EC38</td>\n",
              "      <td>Funiculì funiculà</td>\n",
              "      <td>Mario Lanza</td>\n",
              "      <td>pop</td>\n",
              "      <td>Saint-Petersburg</td>\n",
              "      <td>20:58:07</td>\n",
              "      <td>Wednesday</td>\n",
              "    </tr>\n",
              "    <tr>\n",
              "      <th>3</th>\n",
              "      <td>A3DD03C9</td>\n",
              "      <td>Dragons in the Sunset</td>\n",
              "      <td>Fire + Ice</td>\n",
              "      <td>folk</td>\n",
              "      <td>Saint-Petersburg</td>\n",
              "      <td>08:37:09</td>\n",
              "      <td>Monday</td>\n",
              "    </tr>\n",
              "    <tr>\n",
              "      <th>4</th>\n",
              "      <td>E2DC1FAE</td>\n",
              "      <td>Soul People</td>\n",
              "      <td>Space Echo</td>\n",
              "      <td>dance</td>\n",
              "      <td>Moscow</td>\n",
              "      <td>08:34:34</td>\n",
              "      <td>Monday</td>\n",
              "    </tr>\n",
              "  </tbody>\n",
              "</table>\n",
              "</div>\n",
              "    <div class=\"colab-df-buttons\">\n",
              "\n",
              "  <div class=\"colab-df-container\">\n",
              "    <button class=\"colab-df-convert\" onclick=\"convertToInteractive('df-25548f87-6465-4c65-a46b-5d45cf52ef8a')\"\n",
              "            title=\"Convert this dataframe to an interactive table.\"\n",
              "            style=\"display:none;\">\n",
              "\n",
              "  <svg xmlns=\"http://www.w3.org/2000/svg\" height=\"24px\" viewBox=\"0 -960 960 960\">\n",
              "    <path d=\"M120-120v-720h720v720H120Zm60-500h600v-160H180v160Zm220 220h160v-160H400v160Zm0 220h160v-160H400v160ZM180-400h160v-160H180v160Zm440 0h160v-160H620v160ZM180-180h160v-160H180v160Zm440 0h160v-160H620v160Z\"/>\n",
              "  </svg>\n",
              "    </button>\n",
              "\n",
              "  <style>\n",
              "    .colab-df-container {\n",
              "      display:flex;\n",
              "      gap: 12px;\n",
              "    }\n",
              "\n",
              "    .colab-df-convert {\n",
              "      background-color: #E8F0FE;\n",
              "      border: none;\n",
              "      border-radius: 50%;\n",
              "      cursor: pointer;\n",
              "      display: none;\n",
              "      fill: #1967D2;\n",
              "      height: 32px;\n",
              "      padding: 0 0 0 0;\n",
              "      width: 32px;\n",
              "    }\n",
              "\n",
              "    .colab-df-convert:hover {\n",
              "      background-color: #E2EBFA;\n",
              "      box-shadow: 0px 1px 2px rgba(60, 64, 67, 0.3), 0px 1px 3px 1px rgba(60, 64, 67, 0.15);\n",
              "      fill: #174EA6;\n",
              "    }\n",
              "\n",
              "    .colab-df-buttons div {\n",
              "      margin-bottom: 4px;\n",
              "    }\n",
              "\n",
              "    [theme=dark] .colab-df-convert {\n",
              "      background-color: #3B4455;\n",
              "      fill: #D2E3FC;\n",
              "    }\n",
              "\n",
              "    [theme=dark] .colab-df-convert:hover {\n",
              "      background-color: #434B5C;\n",
              "      box-shadow: 0px 1px 3px 1px rgba(0, 0, 0, 0.15);\n",
              "      filter: drop-shadow(0px 1px 2px rgba(0, 0, 0, 0.3));\n",
              "      fill: #FFFFFF;\n",
              "    }\n",
              "  </style>\n",
              "\n",
              "    <script>\n",
              "      const buttonEl =\n",
              "        document.querySelector('#df-25548f87-6465-4c65-a46b-5d45cf52ef8a button.colab-df-convert');\n",
              "      buttonEl.style.display =\n",
              "        google.colab.kernel.accessAllowed ? 'block' : 'none';\n",
              "\n",
              "      async function convertToInteractive(key) {\n",
              "        const element = document.querySelector('#df-25548f87-6465-4c65-a46b-5d45cf52ef8a');\n",
              "        const dataTable =\n",
              "          await google.colab.kernel.invokeFunction('convertToInteractive',\n",
              "                                                    [key], {});\n",
              "        if (!dataTable) return;\n",
              "\n",
              "        const docLinkHtml = 'Like what you see? Visit the ' +\n",
              "          '<a target=\"_blank\" href=https://colab.research.google.com/notebooks/data_table.ipynb>data table notebook</a>'\n",
              "          + ' to learn more about interactive tables.';\n",
              "        element.innerHTML = '';\n",
              "        dataTable['output_type'] = 'display_data';\n",
              "        await google.colab.output.renderOutput(dataTable, element);\n",
              "        const docLink = document.createElement('div');\n",
              "        docLink.innerHTML = docLinkHtml;\n",
              "        element.appendChild(docLink);\n",
              "      }\n",
              "    </script>\n",
              "  </div>\n",
              "\n",
              "\n",
              "<div id=\"df-33497b26-ac7c-4e3e-a88d-4d4b57981467\">\n",
              "  <button class=\"colab-df-quickchart\" onclick=\"quickchart('df-33497b26-ac7c-4e3e-a88d-4d4b57981467')\"\n",
              "            title=\"Suggest charts.\"\n",
              "            style=\"display:none;\">\n",
              "\n",
              "<svg xmlns=\"http://www.w3.org/2000/svg\" height=\"24px\"viewBox=\"0 0 24 24\"\n",
              "     width=\"24px\">\n",
              "    <g>\n",
              "        <path d=\"M19 3H5c-1.1 0-2 .9-2 2v14c0 1.1.9 2 2 2h14c1.1 0 2-.9 2-2V5c0-1.1-.9-2-2-2zM9 17H7v-7h2v7zm4 0h-2V7h2v10zm4 0h-2v-4h2v4z\"/>\n",
              "    </g>\n",
              "</svg>\n",
              "  </button>\n",
              "\n",
              "<style>\n",
              "  .colab-df-quickchart {\n",
              "      --bg-color: #E8F0FE;\n",
              "      --fill-color: #1967D2;\n",
              "      --hover-bg-color: #E2EBFA;\n",
              "      --hover-fill-color: #174EA6;\n",
              "      --disabled-fill-color: #AAA;\n",
              "      --disabled-bg-color: #DDD;\n",
              "  }\n",
              "\n",
              "  [theme=dark] .colab-df-quickchart {\n",
              "      --bg-color: #3B4455;\n",
              "      --fill-color: #D2E3FC;\n",
              "      --hover-bg-color: #434B5C;\n",
              "      --hover-fill-color: #FFFFFF;\n",
              "      --disabled-bg-color: #3B4455;\n",
              "      --disabled-fill-color: #666;\n",
              "  }\n",
              "\n",
              "  .colab-df-quickchart {\n",
              "    background-color: var(--bg-color);\n",
              "    border: none;\n",
              "    border-radius: 50%;\n",
              "    cursor: pointer;\n",
              "    display: none;\n",
              "    fill: var(--fill-color);\n",
              "    height: 32px;\n",
              "    padding: 0;\n",
              "    width: 32px;\n",
              "  }\n",
              "\n",
              "  .colab-df-quickchart:hover {\n",
              "    background-color: var(--hover-bg-color);\n",
              "    box-shadow: 0 1px 2px rgba(60, 64, 67, 0.3), 0 1px 3px 1px rgba(60, 64, 67, 0.15);\n",
              "    fill: var(--button-hover-fill-color);\n",
              "  }\n",
              "\n",
              "  .colab-df-quickchart-complete:disabled,\n",
              "  .colab-df-quickchart-complete:disabled:hover {\n",
              "    background-color: var(--disabled-bg-color);\n",
              "    fill: var(--disabled-fill-color);\n",
              "    box-shadow: none;\n",
              "  }\n",
              "\n",
              "  .colab-df-spinner {\n",
              "    border: 2px solid var(--fill-color);\n",
              "    border-color: transparent;\n",
              "    border-bottom-color: var(--fill-color);\n",
              "    animation:\n",
              "      spin 1s steps(1) infinite;\n",
              "  }\n",
              "\n",
              "  @keyframes spin {\n",
              "    0% {\n",
              "      border-color: transparent;\n",
              "      border-bottom-color: var(--fill-color);\n",
              "      border-left-color: var(--fill-color);\n",
              "    }\n",
              "    20% {\n",
              "      border-color: transparent;\n",
              "      border-left-color: var(--fill-color);\n",
              "      border-top-color: var(--fill-color);\n",
              "    }\n",
              "    30% {\n",
              "      border-color: transparent;\n",
              "      border-left-color: var(--fill-color);\n",
              "      border-top-color: var(--fill-color);\n",
              "      border-right-color: var(--fill-color);\n",
              "    }\n",
              "    40% {\n",
              "      border-color: transparent;\n",
              "      border-right-color: var(--fill-color);\n",
              "      border-top-color: var(--fill-color);\n",
              "    }\n",
              "    60% {\n",
              "      border-color: transparent;\n",
              "      border-right-color: var(--fill-color);\n",
              "    }\n",
              "    80% {\n",
              "      border-color: transparent;\n",
              "      border-right-color: var(--fill-color);\n",
              "      border-bottom-color: var(--fill-color);\n",
              "    }\n",
              "    90% {\n",
              "      border-color: transparent;\n",
              "      border-bottom-color: var(--fill-color);\n",
              "    }\n",
              "  }\n",
              "</style>\n",
              "\n",
              "  <script>\n",
              "    async function quickchart(key) {\n",
              "      const quickchartButtonEl =\n",
              "        document.querySelector('#' + key + ' button');\n",
              "      quickchartButtonEl.disabled = true;  // To prevent multiple clicks.\n",
              "      quickchartButtonEl.classList.add('colab-df-spinner');\n",
              "      try {\n",
              "        const charts = await google.colab.kernel.invokeFunction(\n",
              "            'suggestCharts', [key], {});\n",
              "      } catch (error) {\n",
              "        console.error('Error during call to suggestCharts:', error);\n",
              "      }\n",
              "      quickchartButtonEl.classList.remove('colab-df-spinner');\n",
              "      quickchartButtonEl.classList.add('colab-df-quickchart-complete');\n",
              "    }\n",
              "    (() => {\n",
              "      let quickchartButtonEl =\n",
              "        document.querySelector('#df-33497b26-ac7c-4e3e-a88d-4d4b57981467 button');\n",
              "      quickchartButtonEl.style.display =\n",
              "        google.colab.kernel.accessAllowed ? 'block' : 'none';\n",
              "    })();\n",
              "  </script>\n",
              "</div>\n",
              "    </div>\n",
              "  </div>\n"
            ]
          },
          "metadata": {},
          "execution_count": 24
        }
      ],
      "source": [
        "df.head()"
      ]
    },
    {
      "cell_type": "code",
      "execution_count": 25,
      "metadata": {
        "deletable": false,
        "id": "DSf2kIb-_Zct",
        "colab": {
          "base_uri": "https://localhost:8080/"
        },
        "outputId": "33600dc3-b1fa-4eda-db1a-6e7048eef3a9"
      },
      "outputs": [
        {
          "output_type": "stream",
          "name": "stdout",
          "text": [
            "<class 'pandas.core.frame.DataFrame'>\n",
            "RangeIndex: 65079 entries, 0 to 65078\n",
            "Data columns (total 7 columns):\n",
            " #   Column    Non-Null Count  Dtype \n",
            "---  ------    --------------  ----- \n",
            " 0     userID  65079 non-null  object\n",
            " 1   Track     63848 non-null  object\n",
            " 2   artist    57876 non-null  object\n",
            " 3   genre     63881 non-null  object\n",
            " 4     City    65079 non-null  object\n",
            " 5   time      65079 non-null  object\n",
            " 6   Day       65079 non-null  object\n",
            "dtypes: object(7)\n",
            "memory usage: 3.5+ MB\n"
          ]
        }
      ],
      "source": [
        "df.info()"
      ]
    },
    {
      "cell_type": "markdown",
      "metadata": {
        "deletable": false,
        "editable": false,
        "id": "TaQ2Iwbr_Zct"
      },
      "source": [
        "Итак, в таблице семь столбцов. Тип данных во всех столбцах — `object`.\n",
        "\n",
        "Согласно документации к данным:\n",
        "* `userID` — идентификатор пользователя;\n",
        "* `Track` — название трека;  \n",
        "* `artist` — имя исполнителя;\n",
        "* `genre` — название жанра;\n",
        "* `City` — город пользователя;\n",
        "* `time` — время начала прослушивания;\n",
        "* `Day` — день недели.\n",
        "\n",
        "Количество значений в столбцах различается. Значит, в данных есть пропущенные значения."
      ]
    },
    {
      "cell_type": "markdown",
      "metadata": {
        "deletable": false,
        "editable": false,
        "id": "SjYF6Ub9_Zct"
      },
      "source": [
        "## Предобработка данных\n",
        "Исправьте стиль в заголовках столбцов, исключите пропуски. Затем проверьте данные на дубликаты."
      ]
    },
    {
      "cell_type": "markdown",
      "metadata": {
        "deletable": false,
        "editable": false,
        "id": "dIaKXr29_Zct",
        "tags": [
          "start_task"
        ]
      },
      "source": [
        "### Стиль заголовков\n",
        "\n",
        "Посмотрим на названия столбцов"
      ]
    },
    {
      "cell_type": "code",
      "execution_count": 26,
      "metadata": {
        "deletable": false,
        "id": "oKOTdF_Q_Zct",
        "colab": {
          "base_uri": "https://localhost:8080/"
        },
        "outputId": "2ba3eb24-db6e-44bd-b6a6-044da1495f16"
      },
      "outputs": [
        {
          "output_type": "execute_result",
          "data": {
            "text/plain": [
              "Index(['  userID', 'Track', 'artist', 'genre', '  City  ', 'time', 'Day'], dtype='object')"
            ]
          },
          "metadata": {},
          "execution_count": 26
        }
      ],
      "source": [
        "df.columns"
      ]
    },
    {
      "cell_type": "markdown",
      "metadata": {
        "deletable": false,
        "editable": false,
        "id": "zj5534cv_Zct",
        "tags": [
          "start_task"
        ]
      },
      "source": [
        "Змеиный регистр"
      ]
    },
    {
      "cell_type": "code",
      "execution_count": 27,
      "metadata": {
        "deletable": false,
        "id": "ISlFqs5y_Zct",
        "scrolled": true
      },
      "outputs": [],
      "source": [
        "df = df.rename(columns = {'  userID':'user_id','Track':'track','  City  ':'city','Day':'day'})"
      ]
    },
    {
      "cell_type": "markdown",
      "metadata": {
        "deletable": false,
        "editable": false,
        "id": "1dqbh00J_Zct",
        "tags": [
          "start_task"
        ]
      },
      "source": [
        "Проверим"
      ]
    },
    {
      "cell_type": "code",
      "execution_count": 28,
      "metadata": {
        "deletable": false,
        "id": "d4NOAmTW_Zct",
        "colab": {
          "base_uri": "https://localhost:8080/"
        },
        "outputId": "946aa954-b33a-46f8-8304-771a69c255d1"
      },
      "outputs": [
        {
          "output_type": "execute_result",
          "data": {
            "text/plain": [
              "Index(['user_id', 'track', 'artist', 'genre', 'city', 'time', 'day'], dtype='object')"
            ]
          },
          "metadata": {},
          "execution_count": 28
        }
      ],
      "source": [
        "df.columns"
      ]
    },
    {
      "cell_type": "markdown",
      "metadata": {
        "deletable": false,
        "editable": false,
        "id": "5ISfbcfY_Zct",
        "tags": [
          "start_task"
        ]
      },
      "source": [
        "### Пропуски значений"
      ]
    },
    {
      "cell_type": "code",
      "execution_count": 29,
      "metadata": {
        "deletable": false,
        "id": "RskX29qr_Zct",
        "scrolled": true,
        "colab": {
          "base_uri": "https://localhost:8080/"
        },
        "outputId": "6e27e2aa-f9f1-4ffb-f8bb-2cefe536f03b"
      },
      "outputs": [
        {
          "output_type": "execute_result",
          "data": {
            "text/plain": [
              "user_id       0\n",
              "track      1231\n",
              "artist     7203\n",
              "genre      1198\n",
              "city          0\n",
              "time          0\n",
              "day           0\n",
              "dtype: int64"
            ]
          },
          "metadata": {},
          "execution_count": 29
        }
      ],
      "source": [
        "df.isna().sum()"
      ]
    },
    {
      "cell_type": "markdown",
      "metadata": {
        "deletable": false,
        "editable": false,
        "id": "qubhgnlO_Zct"
      },
      "source": [
        "Не все пропущенные значения влияют на исследование. Так в `track` и `artist` пропуски не важны для вашей работы. Достаточно заменить их явными обозначениями.\n",
        "\n",
        "Но пропуски в `genre` могут помешать сравнению музыкальных вкусов в Москве и Санкт-Петербурге. На практике было бы правильно установить причину пропусков и восстановить данные. Такой возможности нет в учебном проекте. Придётся:\n",
        "* заполнить и эти пропуски явными обозначениями;\n",
        "* оценить, насколько они повредят расчётам."
      ]
    },
    {
      "cell_type": "markdown",
      "metadata": {
        "deletable": false,
        "editable": false,
        "id": "fSv2laPA_Zct",
        "tags": [
          "start_task"
        ]
      },
      "source": [
        "Заменим пропущенные значения в столбцах `track`, `artist` и `genre` на строку `'unknown'`."
      ]
    },
    {
      "cell_type": "code",
      "execution_count": 30,
      "metadata": {
        "deletable": false,
        "id": "KplB5qWs_Zct"
      },
      "outputs": [],
      "source": [
        "columns_to_replace = ['track', 'artist','genre']\n",
        "for column in columns_to_replace:\n",
        "    df[column] = df[column].fillna('unknown')"
      ]
    },
    {
      "cell_type": "markdown",
      "metadata": {
        "deletable": false,
        "editable": false,
        "id": "Ilsm-MZo_Zct",
        "tags": [
          "start_task"
        ]
      },
      "source": [
        "Проверим"
      ]
    },
    {
      "cell_type": "code",
      "execution_count": 31,
      "metadata": {
        "deletable": false,
        "id": "Tq4nYRX4_Zct",
        "colab": {
          "base_uri": "https://localhost:8080/"
        },
        "outputId": "d50800f1-850f-4ebd-f4d6-296c1b809857"
      },
      "outputs": [
        {
          "output_type": "execute_result",
          "data": {
            "text/plain": [
              "user_id    0\n",
              "track      0\n",
              "artist     0\n",
              "genre      0\n",
              "city       0\n",
              "time       0\n",
              "day        0\n",
              "dtype: int64"
            ]
          },
          "metadata": {},
          "execution_count": 31
        }
      ],
      "source": [
        "df.isna().sum()"
      ]
    },
    {
      "cell_type": "markdown",
      "metadata": {
        "deletable": false,
        "editable": false,
        "id": "BWKRtBJ3_Zct",
        "tags": [
          "start_task"
        ]
      },
      "source": [
        "### Дубликаты\n"
      ]
    },
    {
      "cell_type": "code",
      "execution_count": 32,
      "metadata": {
        "deletable": false,
        "id": "36eES_S0_Zct",
        "colab": {
          "base_uri": "https://localhost:8080/"
        },
        "outputId": "8a6480f1-e863-403d-de76-a1154a1d5550"
      },
      "outputs": [
        {
          "output_type": "execute_result",
          "data": {
            "text/plain": [
              "3826"
            ]
          },
          "metadata": {},
          "execution_count": 32
        }
      ],
      "source": [
        "df.duplicated().sum()"
      ]
    },
    {
      "cell_type": "markdown",
      "metadata": {
        "deletable": false,
        "editable": false,
        "id": "Ot25h6XR_Zct",
        "tags": [
          "start_task"
        ]
      },
      "source": [
        "Удалим явные дубликаты:"
      ]
    },
    {
      "cell_type": "code",
      "execution_count": 33,
      "metadata": {
        "deletable": false,
        "id": "exFHq6tt_Zct"
      },
      "outputs": [],
      "source": [
        "df = df.drop_duplicates()"
      ]
    },
    {
      "cell_type": "markdown",
      "metadata": {
        "deletable": false,
        "editable": false,
        "id": "Im2YwBEG_Zct",
        "tags": [
          "start_task"
        ]
      },
      "source": [
        "Проверим"
      ]
    },
    {
      "cell_type": "code",
      "execution_count": 34,
      "metadata": {
        "deletable": false,
        "id": "-8PuNWQ0_Zct",
        "colab": {
          "base_uri": "https://localhost:8080/"
        },
        "outputId": "735406bc-2728-4b12-a163-0d8955df24cd"
      },
      "outputs": [
        {
          "output_type": "execute_result",
          "data": {
            "text/plain": [
              "0"
            ]
          },
          "metadata": {},
          "execution_count": 34
        }
      ],
      "source": [
        "df.duplicated().sum()"
      ]
    },
    {
      "cell_type": "markdown",
      "metadata": {
        "deletable": false,
        "editable": false,
        "id": "eSjWwsOh_Zct",
        "tags": [
          "start_task"
        ]
      },
      "source": [
        "Посмотрим на названия жанров:"
      ]
    },
    {
      "cell_type": "code",
      "execution_count": 35,
      "metadata": {
        "deletable": false,
        "id": "JIUcqzZN_Zct",
        "scrolled": true,
        "colab": {
          "base_uri": "https://localhost:8080/"
        },
        "outputId": "13a81ab6-becf-46e0-dea3-250dcb31d6c0"
      },
      "outputs": [
        {
          "output_type": "stream",
          "name": "stdout",
          "text": [
            "['acid' 'acoustic' 'action' 'adult' 'africa' 'afrikaans' 'alternative'\n",
            " 'alternativepunk' 'ambient' 'americana' 'animated' 'anime' 'arabesk'\n",
            " 'arabic' 'arena' 'argentinetango' 'art' 'audiobook' 'author' 'avantgarde'\n",
            " 'axé' 'baile' 'balkan' 'beats' 'bigroom' 'black' 'bluegrass' 'blues'\n",
            " 'bollywood' 'bossa' 'brazilian' 'breakbeat' 'breaks' 'broadway'\n",
            " 'cantautori' 'cantopop' 'canzone' 'caribbean' 'caucasian' 'celtic'\n",
            " 'chamber' 'chanson' 'children' 'chill' 'chinese' 'choral' 'christian'\n",
            " 'christmas' 'classical' 'classicmetal' 'club' 'colombian' 'comedy'\n",
            " 'conjazz' 'contemporary' 'country' 'cuban' 'dance' 'dancehall' 'dancepop'\n",
            " 'dark' 'death' 'deep' 'deutschrock' 'deutschspr' 'dirty' 'disco' 'dnb'\n",
            " 'documentary' 'downbeat' 'downtempo' 'drum' 'dub' 'dubstep' 'eastern'\n",
            " 'easy' 'electronic' 'electropop' 'emo' 'entehno' 'epicmetal' 'estrada'\n",
            " 'ethnic' 'eurofolk' 'european' 'experimental' 'extrememetal' 'fado'\n",
            " 'fairytail' 'film' 'fitness' 'flamenco' 'folk' 'folklore' 'folkmetal'\n",
            " 'folkrock' 'folktronica' 'forró' 'frankreich' 'französisch' 'french'\n",
            " 'funk' 'future' 'gangsta' 'garage' 'german' 'ghazal' 'gitarre' 'glitch'\n",
            " 'gospel' 'gothic' 'grime' 'grunge' 'gypsy' 'handsup' \"hard'n'heavy\"\n",
            " 'hardcore' 'hardstyle' 'hardtechno' 'hip' 'hip-hop' 'hiphop' 'historisch'\n",
            " 'holiday' 'hop' 'horror' 'house' 'hymn' 'idm' 'independent' 'indian'\n",
            " 'indie' 'indipop' 'industrial' 'inspirational' 'instrumental'\n",
            " 'international' 'irish' 'jam' 'japanese' 'jazz' 'jewish' 'jpop' 'jungle'\n",
            " 'k-pop' 'karadeniz' 'karaoke' 'kayokyoku' 'korean' 'laiko' 'latin'\n",
            " 'latino' 'leftfield' 'local' 'lounge' 'loungeelectronic' 'lovers'\n",
            " 'malaysian' 'mandopop' 'marschmusik' 'meditative' 'mediterranean'\n",
            " 'melodic' 'metal' 'metalcore' 'mexican' 'middle' 'minimal'\n",
            " 'miscellaneous' 'modern' 'mood' 'mpb' 'muslim' 'native' 'neoklassik'\n",
            " 'neue' 'new' 'newage' 'newwave' 'nu' 'nujazz' 'numetal' 'oceania' 'old'\n",
            " 'opera' 'orchestral' 'other' 'piano' 'podcasts' 'pop' 'popdance'\n",
            " 'popelectronic' 'popeurodance' 'poprussian' 'post' 'posthardcore'\n",
            " 'postrock' 'power' 'progmetal' 'progressive' 'psychedelic' 'punjabi'\n",
            " 'punk' 'quebecois' 'ragga' 'ram' 'rancheras' 'rap' 'rave' 'reggae'\n",
            " 'reggaeton' 'regional' 'relax' 'religious' 'retro' 'rhythm' 'rnb' 'rnr'\n",
            " 'rock' 'rockabilly' 'rockalternative' 'rockindie' 'rockother' 'romance'\n",
            " 'roots' 'ruspop' 'rusrap' 'rusrock' 'russian' 'salsa' 'samba' 'scenic'\n",
            " 'schlager' 'self' 'sertanejo' 'shanson' 'shoegazing' 'showtunes' 'singer'\n",
            " 'ska' 'skarock' 'slow' 'smooth' 'soft' 'soul' 'soulful' 'sound'\n",
            " 'soundtrack' 'southern' 'specialty' 'speech' 'spiritual' 'sport'\n",
            " 'stonerrock' 'surf' 'swing' 'synthpop' 'synthrock' 'sängerportrait'\n",
            " 'tango' 'tanzorchester' 'taraftar' 'tatar' 'tech' 'techno' 'teen'\n",
            " 'thrash' 'top' 'traditional' 'tradjazz' 'trance' 'tribal' 'trip'\n",
            " 'triphop' 'tropical' 'türk' 'türkçe' 'ukrrock' 'unknown' 'urban' 'uzbek'\n",
            " 'variété' 'vi' 'videogame' 'vocal' 'western' 'world' 'worldbeat' 'ïîï'\n",
            " 'электроника']\n"
          ]
        }
      ],
      "source": [
        "df_genre = df['genre']\n",
        "df_genre_sorted = df_genre.sort_values()\n",
        "df_genre_unique = df_genre_sorted.unique()\n",
        "print(df_genre_unique)"
      ]
    },
    {
      "cell_type": "markdown",
      "metadata": {
        "deletable": false,
        "editable": false,
        "id": "qej-Qmuo_Zct",
        "tags": [
          "start_task"
        ]
      },
      "source": [
        "Мы видим следующие неявные дубликаты:\n",
        "* *hip*,\n",
        "* *hop*,\n",
        "* *hip-hop*.\n"
      ]
    },
    {
      "cell_type": "code",
      "execution_count": 36,
      "metadata": {
        "deletable": false,
        "id": "ErNDkmns_Zct",
        "colab": {
          "base_uri": "https://localhost:8080/"
        },
        "outputId": "cf344dc6-189b-4e42-a284-4ec0cc488120"
      },
      "outputs": [
        {
          "output_type": "stream",
          "name": "stdout",
          "text": [
            "0              rock\n",
            "1              rock\n",
            "2               pop\n",
            "3              folk\n",
            "4             dance\n",
            "            ...    \n",
            "65074           rnb\n",
            "65075        hiphop\n",
            "65076    industrial\n",
            "65077          rock\n",
            "65078       country\n",
            "Name: genre, Length: 61253, dtype: object\n"
          ]
        }
      ],
      "source": [
        "for_change = ['hip','hop','hip-hop']\n",
        "to_change = 'hiphop'\n",
        "df['genre'] = df['genre'].replace(for_change,to_change)\n",
        "print(df['genre'])"
      ]
    },
    {
      "cell_type": "markdown",
      "metadata": {
        "deletable": false,
        "editable": false,
        "id": "zQKF16_RG15m",
        "tags": [
          "start_task"
        ]
      },
      "source": [
        "Проверка"
      ]
    },
    {
      "cell_type": "code",
      "execution_count": 37,
      "metadata": {
        "deletable": false,
        "id": "wvixALnFG15m",
        "colab": {
          "base_uri": "https://localhost:8080/"
        },
        "outputId": "c66871db-1797-4644-d29a-99e0762ec45d"
      },
      "outputs": [
        {
          "output_type": "stream",
          "name": "stdout",
          "text": [
            "['acid' 'acoustic' 'action' 'adult' 'africa' 'afrikaans' 'alternative'\n",
            " 'alternativepunk' 'ambient' 'americana' 'animated' 'anime' 'arabesk'\n",
            " 'arabic' 'arena' 'argentinetango' 'art' 'audiobook' 'author' 'avantgarde'\n",
            " 'axé' 'baile' 'balkan' 'beats' 'bigroom' 'black' 'bluegrass' 'blues'\n",
            " 'bollywood' 'bossa' 'brazilian' 'breakbeat' 'breaks' 'broadway'\n",
            " 'cantautori' 'cantopop' 'canzone' 'caribbean' 'caucasian' 'celtic'\n",
            " 'chamber' 'chanson' 'children' 'chill' 'chinese' 'choral' 'christian'\n",
            " 'christmas' 'classical' 'classicmetal' 'club' 'colombian' 'comedy'\n",
            " 'conjazz' 'contemporary' 'country' 'cuban' 'dance' 'dancehall' 'dancepop'\n",
            " 'dark' 'death' 'deep' 'deutschrock' 'deutschspr' 'dirty' 'disco' 'dnb'\n",
            " 'documentary' 'downbeat' 'downtempo' 'drum' 'dub' 'dubstep' 'eastern'\n",
            " 'easy' 'electronic' 'electropop' 'emo' 'entehno' 'epicmetal' 'estrada'\n",
            " 'ethnic' 'eurofolk' 'european' 'experimental' 'extrememetal' 'fado'\n",
            " 'fairytail' 'film' 'fitness' 'flamenco' 'folk' 'folklore' 'folkmetal'\n",
            " 'folkrock' 'folktronica' 'forró' 'frankreich' 'französisch' 'french'\n",
            " 'funk' 'future' 'gangsta' 'garage' 'german' 'ghazal' 'gitarre' 'glitch'\n",
            " 'gospel' 'gothic' 'grime' 'grunge' 'gypsy' 'handsup' \"hard'n'heavy\"\n",
            " 'hardcore' 'hardstyle' 'hardtechno' 'hiphop' 'historisch' 'holiday'\n",
            " 'horror' 'house' 'hymn' 'idm' 'independent' 'indian' 'indie' 'indipop'\n",
            " 'industrial' 'inspirational' 'instrumental' 'international' 'irish' 'jam'\n",
            " 'japanese' 'jazz' 'jewish' 'jpop' 'jungle' 'k-pop' 'karadeniz' 'karaoke'\n",
            " 'kayokyoku' 'korean' 'laiko' 'latin' 'latino' 'leftfield' 'local'\n",
            " 'lounge' 'loungeelectronic' 'lovers' 'malaysian' 'mandopop' 'marschmusik'\n",
            " 'meditative' 'mediterranean' 'melodic' 'metal' 'metalcore' 'mexican'\n",
            " 'middle' 'minimal' 'miscellaneous' 'modern' 'mood' 'mpb' 'muslim'\n",
            " 'native' 'neoklassik' 'neue' 'new' 'newage' 'newwave' 'nu' 'nujazz'\n",
            " 'numetal' 'oceania' 'old' 'opera' 'orchestral' 'other' 'piano' 'podcasts'\n",
            " 'pop' 'popdance' 'popelectronic' 'popeurodance' 'poprussian' 'post'\n",
            " 'posthardcore' 'postrock' 'power' 'progmetal' 'progressive' 'psychedelic'\n",
            " 'punjabi' 'punk' 'quebecois' 'ragga' 'ram' 'rancheras' 'rap' 'rave'\n",
            " 'reggae' 'reggaeton' 'regional' 'relax' 'religious' 'retro' 'rhythm'\n",
            " 'rnb' 'rnr' 'rock' 'rockabilly' 'rockalternative' 'rockindie' 'rockother'\n",
            " 'romance' 'roots' 'ruspop' 'rusrap' 'rusrock' 'russian' 'salsa' 'samba'\n",
            " 'scenic' 'schlager' 'self' 'sertanejo' 'shanson' 'shoegazing' 'showtunes'\n",
            " 'singer' 'ska' 'skarock' 'slow' 'smooth' 'soft' 'soul' 'soulful' 'sound'\n",
            " 'soundtrack' 'southern' 'specialty' 'speech' 'spiritual' 'sport'\n",
            " 'stonerrock' 'surf' 'swing' 'synthpop' 'synthrock' 'sängerportrait'\n",
            " 'tango' 'tanzorchester' 'taraftar' 'tatar' 'tech' 'techno' 'teen'\n",
            " 'thrash' 'top' 'traditional' 'tradjazz' 'trance' 'tribal' 'trip'\n",
            " 'triphop' 'tropical' 'türk' 'türkçe' 'ukrrock' 'unknown' 'urban' 'uzbek'\n",
            " 'variété' 'vi' 'videogame' 'vocal' 'western' 'world' 'worldbeat' 'ïîï'\n",
            " 'электроника']\n"
          ]
        }
      ],
      "source": [
        "df_genre = df['genre']\n",
        "df_genre_sorted = df_genre.sort_values()\n",
        "df_genre_unique = df_genre_sorted.unique()\n",
        "print(df_genre_unique)"
      ]
    },
    {
      "cell_type": "markdown",
      "metadata": {
        "deletable": false,
        "editable": false,
        "id": "jz6a9-7HQUDd"
      },
      "source": [
        "**Выводы**\n",
        "\n",
        "Предобработка обнаружила три проблемы в данных:\n",
        "\n",
        "- нарушения в стиле заголовков,\n",
        "- пропущенные значения,\n",
        "- дубликаты — явные и неявные.\n",
        "\n",
        "Мы исправили заголовки, чтобы упростить работу с таблицей. Без дубликатов исследование станет более точным.\n",
        "\n",
        "Пропущенные значения заменили на `'unknown'`.\n",
        "\n",
        "Теперь можно перейти к проверке гипотез."
      ]
    },
    {
      "cell_type": "markdown",
      "metadata": {
        "deletable": false,
        "editable": false,
        "id": "WttZHXH0SqKk"
      },
      "source": [
        "## Проверка гипотез"
      ]
    },
    {
      "cell_type": "markdown",
      "metadata": {
        "deletable": false,
        "editable": false,
        "id": "Im936VVi_Zcu"
      },
      "source": [
        "### Сравнение поведения пользователей двух столиц"
      ]
    },
    {
      "cell_type": "markdown",
      "metadata": {
        "deletable": false,
        "editable": false,
        "id": "nwt_MuaL_Zcu"
      },
      "source": [
        "Первая гипотеза утверждает, что пользователи по-разному слушают музыку в Москве и Санкт-Петербурге. Проверим это предположение по данным о трёх днях недели — понедельнике, среде и пятнице. Для этого:\n",
        "\n",
        "* Разделим пользователей Москвы и Санкт-Петербурга.\n",
        "* Сравним, сколько треков послушала каждая группа пользователей в понедельник, среду и пятницу.\n"
      ]
    },
    {
      "cell_type": "markdown",
      "metadata": {
        "deletable": false,
        "editable": false,
        "id": "8Dw_YMmT_Zcu",
        "tags": [
          "start_task"
        ]
      },
      "source": [
        "Сгруппируем данные по городу и посчитайм прослушивания в каждой группе.\n",
        "\n"
      ]
    },
    {
      "cell_type": "code",
      "execution_count": 38,
      "metadata": {
        "deletable": false,
        "id": "0_Qs96oh_Zcu",
        "colab": {
          "base_uri": "https://localhost:8080/"
        },
        "outputId": "b611cc4b-5e95-47fe-bdc7-084d8fe4e714"
      },
      "outputs": [
        {
          "output_type": "stream",
          "name": "stdout",
          "text": [
            "city\n",
            "Moscow              42741\n",
            "Saint-Petersburg    18512\n",
            "Name: time, dtype: int64\n"
          ]
        }
      ],
      "source": [
        "df_cities = df.groupby('city').count()\n",
        "print(df_cities['time'])"
      ]
    },
    {
      "cell_type": "markdown",
      "metadata": {
        "deletable": false,
        "editable": false,
        "id": "dzli3w8o_Zcu",
        "tags": [
          "start_task"
        ]
      },
      "source": [
        "В Москве прослушиваний больше, чем в Петербурге. Из этого не следует, что московские пользователи чаще слушают музыку. Просто самих пользователей в Москве больше.\n"
      ]
    },
    {
      "cell_type": "code",
      "execution_count": 39,
      "metadata": {
        "deletable": false,
        "id": "uZMKjiJz_Zcu",
        "colab": {
          "base_uri": "https://localhost:8080/"
        },
        "outputId": "1f592d8e-efaa-407e-b13a-5125fe10e8d3"
      },
      "outputs": [
        {
          "output_type": "stream",
          "name": "stdout",
          "text": [
            "day\n",
            "Friday       21840\n",
            "Monday       21354\n",
            "Wednesday    18059\n",
            "Name: time, dtype: int64\n"
          ]
        }
      ],
      "source": [
        "df_days = df.groupby('day').count()\n",
        "print(df_days['time'])"
      ]
    },
    {
      "cell_type": "markdown",
      "metadata": {
        "deletable": false,
        "editable": false,
        "id": "cC2tNrlL_Zcu"
      },
      "source": [
        "В среднем пользователи из двух городов менее активны по средам. Но картина может измениться, если рассмотреть каждый город в отдельности."
      ]
    },
    {
      "cell_type": "code",
      "execution_count": 40,
      "metadata": {
        "deletable": false,
        "id": "Nz3GdQB1_Zcu"
      },
      "outputs": [],
      "source": [
        "# Функция по расчету города, дня недели и прослушанном времени\n",
        "def number_tracks(day, city):\n",
        "    track_list = df[df['day'] == day]\n",
        "    track_list = track_list[track_list['city'] == city]\n",
        "    track_list_count = track_list.count()['user_id']\n",
        "    return (track_list_count)\n"
      ]
    },
    {
      "cell_type": "markdown",
      "metadata": {
        "deletable": false,
        "editable": false,
        "id": "ytf7xFrFJQ2r",
        "tags": [
          "start_task"
        ]
      },
      "source": [
        "Применим её"
      ]
    },
    {
      "cell_type": "code",
      "execution_count": 41,
      "metadata": {
        "deletable": false,
        "id": "rJcRATNQ_Zcu",
        "colab": {
          "base_uri": "https://localhost:8080/"
        },
        "outputId": "009c307b-f327-4c43-ad11-67dbb36dccfb"
      },
      "outputs": [
        {
          "output_type": "execute_result",
          "data": {
            "text/plain": [
              "15740"
            ]
          },
          "metadata": {},
          "execution_count": 41
        }
      ],
      "source": [
        "number_tracks('Monday','Moscow')\n",
        "# количество прослушиваний в Москве по понедельникам"
      ]
    },
    {
      "cell_type": "code",
      "execution_count": 42,
      "metadata": {
        "deletable": false,
        "id": "hq_ncZ5T_Zcu",
        "colab": {
          "base_uri": "https://localhost:8080/"
        },
        "outputId": "9c65289e-d320-49ad-9e49-08959c4ce3ee"
      },
      "outputs": [
        {
          "output_type": "execute_result",
          "data": {
            "text/plain": [
              "5614"
            ]
          },
          "metadata": {},
          "execution_count": 42
        }
      ],
      "source": [
        "number_tracks('Monday','Saint-Petersburg')\n",
        "# количество прослушиваний в Санкт-Петербурге по понедельникам"
      ]
    },
    {
      "cell_type": "code",
      "execution_count": 43,
      "metadata": {
        "deletable": false,
        "id": "_NTy2VPU_Zcu",
        "colab": {
          "base_uri": "https://localhost:8080/"
        },
        "outputId": "db3bb201-8dd9-4608-f01e-a91805765676"
      },
      "outputs": [
        {
          "output_type": "execute_result",
          "data": {
            "text/plain": [
              "11056"
            ]
          },
          "metadata": {},
          "execution_count": 43
        }
      ],
      "source": [
        "number_tracks('Wednesday','Moscow')\n",
        "# количество прослушиваний в Москве по средам"
      ]
    },
    {
      "cell_type": "code",
      "execution_count": 44,
      "metadata": {
        "deletable": false,
        "id": "j2y3TAwo_Zcu",
        "colab": {
          "base_uri": "https://localhost:8080/"
        },
        "outputId": "24a439db-0d2f-43a1-f212-9c3c858a4657"
      },
      "outputs": [
        {
          "output_type": "execute_result",
          "data": {
            "text/plain": [
              "7003"
            ]
          },
          "metadata": {},
          "execution_count": 44
        }
      ],
      "source": [
        "number_tracks('Wednesday','Saint-Petersburg')\n",
        "# количество прослушиваний в Санкт-Петербурге по средам"
      ]
    },
    {
      "cell_type": "code",
      "execution_count": 45,
      "metadata": {
        "deletable": false,
        "id": "vYDw5u_K_Zcu",
        "colab": {
          "base_uri": "https://localhost:8080/"
        },
        "outputId": "734f02b1-75bb-401a-d8b7-97e437656e62"
      },
      "outputs": [
        {
          "output_type": "execute_result",
          "data": {
            "text/plain": [
              "15945"
            ]
          },
          "metadata": {},
          "execution_count": 45
        }
      ],
      "source": [
        "number_tracks('Friday','Moscow')\n",
        "# количество прослушиваний в Москве по пятницам"
      ]
    },
    {
      "cell_type": "code",
      "execution_count": 46,
      "metadata": {
        "deletable": false,
        "id": "8_yzFtW3_Zcu",
        "colab": {
          "base_uri": "https://localhost:8080/"
        },
        "outputId": "18b4151d-9f25-4fbd-fdd9-0b56a2b458a9"
      },
      "outputs": [
        {
          "output_type": "execute_result",
          "data": {
            "text/plain": [
              "5895"
            ]
          },
          "metadata": {},
          "execution_count": 46
        }
      ],
      "source": [
        "number_tracks('Friday','Saint-Petersburg')\n",
        "# количество прослушиваний в Санкт-Петербурге по пятницам"
      ]
    },
    {
      "cell_type": "markdown",
      "metadata": {
        "deletable": false,
        "editable": false,
        "id": "7QXffbO-_Zcu",
        "tags": [
          "start_task"
        ]
      },
      "source": [
        "Создадим таблицу с полученным значениями"
      ]
    },
    {
      "cell_type": "code",
      "execution_count": 49,
      "metadata": {
        "deletable": false,
        "id": "APAcLpOr_Zcu",
        "colab": {
          "base_uri": "https://localhost:8080/",
          "height": 112
        },
        "outputId": "1ccb9e2a-ca19-4286-ab75-4b318b9e1979"
      },
      "outputs": [
        {
          "output_type": "display_data",
          "data": {
            "text/plain": [
              "              city  monday  wednesday  friday\n",
              "0           Москва   15740      11056   15945\n",
              "1  Санкт-Петербург    5614       7003    5895"
            ],
            "text/html": [
              "\n",
              "  <div id=\"df-75917da7-75d1-4fba-8e04-8aa562ab7732\" class=\"colab-df-container\">\n",
              "    <div>\n",
              "<style scoped>\n",
              "    .dataframe tbody tr th:only-of-type {\n",
              "        vertical-align: middle;\n",
              "    }\n",
              "\n",
              "    .dataframe tbody tr th {\n",
              "        vertical-align: top;\n",
              "    }\n",
              "\n",
              "    .dataframe thead th {\n",
              "        text-align: right;\n",
              "    }\n",
              "</style>\n",
              "<table border=\"1\" class=\"dataframe\">\n",
              "  <thead>\n",
              "    <tr style=\"text-align: right;\">\n",
              "      <th></th>\n",
              "      <th>city</th>\n",
              "      <th>monday</th>\n",
              "      <th>wednesday</th>\n",
              "      <th>friday</th>\n",
              "    </tr>\n",
              "  </thead>\n",
              "  <tbody>\n",
              "    <tr>\n",
              "      <th>0</th>\n",
              "      <td>Москва</td>\n",
              "      <td>15740</td>\n",
              "      <td>11056</td>\n",
              "      <td>15945</td>\n",
              "    </tr>\n",
              "    <tr>\n",
              "      <th>1</th>\n",
              "      <td>Санкт-Петербург</td>\n",
              "      <td>5614</td>\n",
              "      <td>7003</td>\n",
              "      <td>5895</td>\n",
              "    </tr>\n",
              "  </tbody>\n",
              "</table>\n",
              "</div>\n",
              "    <div class=\"colab-df-buttons\">\n",
              "\n",
              "  <div class=\"colab-df-container\">\n",
              "    <button class=\"colab-df-convert\" onclick=\"convertToInteractive('df-75917da7-75d1-4fba-8e04-8aa562ab7732')\"\n",
              "            title=\"Convert this dataframe to an interactive table.\"\n",
              "            style=\"display:none;\">\n",
              "\n",
              "  <svg xmlns=\"http://www.w3.org/2000/svg\" height=\"24px\" viewBox=\"0 -960 960 960\">\n",
              "    <path d=\"M120-120v-720h720v720H120Zm60-500h600v-160H180v160Zm220 220h160v-160H400v160Zm0 220h160v-160H400v160ZM180-400h160v-160H180v160Zm440 0h160v-160H620v160ZM180-180h160v-160H180v160Zm440 0h160v-160H620v160Z\"/>\n",
              "  </svg>\n",
              "    </button>\n",
              "\n",
              "  <style>\n",
              "    .colab-df-container {\n",
              "      display:flex;\n",
              "      gap: 12px;\n",
              "    }\n",
              "\n",
              "    .colab-df-convert {\n",
              "      background-color: #E8F0FE;\n",
              "      border: none;\n",
              "      border-radius: 50%;\n",
              "      cursor: pointer;\n",
              "      display: none;\n",
              "      fill: #1967D2;\n",
              "      height: 32px;\n",
              "      padding: 0 0 0 0;\n",
              "      width: 32px;\n",
              "    }\n",
              "\n",
              "    .colab-df-convert:hover {\n",
              "      background-color: #E2EBFA;\n",
              "      box-shadow: 0px 1px 2px rgba(60, 64, 67, 0.3), 0px 1px 3px 1px rgba(60, 64, 67, 0.15);\n",
              "      fill: #174EA6;\n",
              "    }\n",
              "\n",
              "    .colab-df-buttons div {\n",
              "      margin-bottom: 4px;\n",
              "    }\n",
              "\n",
              "    [theme=dark] .colab-df-convert {\n",
              "      background-color: #3B4455;\n",
              "      fill: #D2E3FC;\n",
              "    }\n",
              "\n",
              "    [theme=dark] .colab-df-convert:hover {\n",
              "      background-color: #434B5C;\n",
              "      box-shadow: 0px 1px 3px 1px rgba(0, 0, 0, 0.15);\n",
              "      filter: drop-shadow(0px 1px 2px rgba(0, 0, 0, 0.3));\n",
              "      fill: #FFFFFF;\n",
              "    }\n",
              "  </style>\n",
              "\n",
              "    <script>\n",
              "      const buttonEl =\n",
              "        document.querySelector('#df-75917da7-75d1-4fba-8e04-8aa562ab7732 button.colab-df-convert');\n",
              "      buttonEl.style.display =\n",
              "        google.colab.kernel.accessAllowed ? 'block' : 'none';\n",
              "\n",
              "      async function convertToInteractive(key) {\n",
              "        const element = document.querySelector('#df-75917da7-75d1-4fba-8e04-8aa562ab7732');\n",
              "        const dataTable =\n",
              "          await google.colab.kernel.invokeFunction('convertToInteractive',\n",
              "                                                    [key], {});\n",
              "        if (!dataTable) return;\n",
              "\n",
              "        const docLinkHtml = 'Like what you see? Visit the ' +\n",
              "          '<a target=\"_blank\" href=https://colab.research.google.com/notebooks/data_table.ipynb>data table notebook</a>'\n",
              "          + ' to learn more about interactive tables.';\n",
              "        element.innerHTML = '';\n",
              "        dataTable['output_type'] = 'display_data';\n",
              "        await google.colab.output.renderOutput(dataTable, element);\n",
              "        const docLink = document.createElement('div');\n",
              "        docLink.innerHTML = docLinkHtml;\n",
              "        element.appendChild(docLink);\n",
              "      }\n",
              "    </script>\n",
              "  </div>\n",
              "\n",
              "\n",
              "<div id=\"df-15cb320b-fae6-42c1-a6ad-8807e25a1f5c\">\n",
              "  <button class=\"colab-df-quickchart\" onclick=\"quickchart('df-15cb320b-fae6-42c1-a6ad-8807e25a1f5c')\"\n",
              "            title=\"Suggest charts.\"\n",
              "            style=\"display:none;\">\n",
              "\n",
              "<svg xmlns=\"http://www.w3.org/2000/svg\" height=\"24px\"viewBox=\"0 0 24 24\"\n",
              "     width=\"24px\">\n",
              "    <g>\n",
              "        <path d=\"M19 3H5c-1.1 0-2 .9-2 2v14c0 1.1.9 2 2 2h14c1.1 0 2-.9 2-2V5c0-1.1-.9-2-2-2zM9 17H7v-7h2v7zm4 0h-2V7h2v10zm4 0h-2v-4h2v4z\"/>\n",
              "    </g>\n",
              "</svg>\n",
              "  </button>\n",
              "\n",
              "<style>\n",
              "  .colab-df-quickchart {\n",
              "      --bg-color: #E8F0FE;\n",
              "      --fill-color: #1967D2;\n",
              "      --hover-bg-color: #E2EBFA;\n",
              "      --hover-fill-color: #174EA6;\n",
              "      --disabled-fill-color: #AAA;\n",
              "      --disabled-bg-color: #DDD;\n",
              "  }\n",
              "\n",
              "  [theme=dark] .colab-df-quickchart {\n",
              "      --bg-color: #3B4455;\n",
              "      --fill-color: #D2E3FC;\n",
              "      --hover-bg-color: #434B5C;\n",
              "      --hover-fill-color: #FFFFFF;\n",
              "      --disabled-bg-color: #3B4455;\n",
              "      --disabled-fill-color: #666;\n",
              "  }\n",
              "\n",
              "  .colab-df-quickchart {\n",
              "    background-color: var(--bg-color);\n",
              "    border: none;\n",
              "    border-radius: 50%;\n",
              "    cursor: pointer;\n",
              "    display: none;\n",
              "    fill: var(--fill-color);\n",
              "    height: 32px;\n",
              "    padding: 0;\n",
              "    width: 32px;\n",
              "  }\n",
              "\n",
              "  .colab-df-quickchart:hover {\n",
              "    background-color: var(--hover-bg-color);\n",
              "    box-shadow: 0 1px 2px rgba(60, 64, 67, 0.3), 0 1px 3px 1px rgba(60, 64, 67, 0.15);\n",
              "    fill: var(--button-hover-fill-color);\n",
              "  }\n",
              "\n",
              "  .colab-df-quickchart-complete:disabled,\n",
              "  .colab-df-quickchart-complete:disabled:hover {\n",
              "    background-color: var(--disabled-bg-color);\n",
              "    fill: var(--disabled-fill-color);\n",
              "    box-shadow: none;\n",
              "  }\n",
              "\n",
              "  .colab-df-spinner {\n",
              "    border: 2px solid var(--fill-color);\n",
              "    border-color: transparent;\n",
              "    border-bottom-color: var(--fill-color);\n",
              "    animation:\n",
              "      spin 1s steps(1) infinite;\n",
              "  }\n",
              "\n",
              "  @keyframes spin {\n",
              "    0% {\n",
              "      border-color: transparent;\n",
              "      border-bottom-color: var(--fill-color);\n",
              "      border-left-color: var(--fill-color);\n",
              "    }\n",
              "    20% {\n",
              "      border-color: transparent;\n",
              "      border-left-color: var(--fill-color);\n",
              "      border-top-color: var(--fill-color);\n",
              "    }\n",
              "    30% {\n",
              "      border-color: transparent;\n",
              "      border-left-color: var(--fill-color);\n",
              "      border-top-color: var(--fill-color);\n",
              "      border-right-color: var(--fill-color);\n",
              "    }\n",
              "    40% {\n",
              "      border-color: transparent;\n",
              "      border-right-color: var(--fill-color);\n",
              "      border-top-color: var(--fill-color);\n",
              "    }\n",
              "    60% {\n",
              "      border-color: transparent;\n",
              "      border-right-color: var(--fill-color);\n",
              "    }\n",
              "    80% {\n",
              "      border-color: transparent;\n",
              "      border-right-color: var(--fill-color);\n",
              "      border-bottom-color: var(--fill-color);\n",
              "    }\n",
              "    90% {\n",
              "      border-color: transparent;\n",
              "      border-bottom-color: var(--fill-color);\n",
              "    }\n",
              "  }\n",
              "</style>\n",
              "\n",
              "  <script>\n",
              "    async function quickchart(key) {\n",
              "      const quickchartButtonEl =\n",
              "        document.querySelector('#' + key + ' button');\n",
              "      quickchartButtonEl.disabled = true;  // To prevent multiple clicks.\n",
              "      quickchartButtonEl.classList.add('colab-df-spinner');\n",
              "      try {\n",
              "        const charts = await google.colab.kernel.invokeFunction(\n",
              "            'suggestCharts', [key], {});\n",
              "      } catch (error) {\n",
              "        console.error('Error during call to suggestCharts:', error);\n",
              "      }\n",
              "      quickchartButtonEl.classList.remove('colab-df-spinner');\n",
              "      quickchartButtonEl.classList.add('colab-df-quickchart-complete');\n",
              "    }\n",
              "    (() => {\n",
              "      let quickchartButtonEl =\n",
              "        document.querySelector('#df-15cb320b-fae6-42c1-a6ad-8807e25a1f5c button');\n",
              "      quickchartButtonEl.style.display =\n",
              "        google.colab.kernel.accessAllowed ? 'block' : 'none';\n",
              "    })();\n",
              "  </script>\n",
              "</div>\n",
              "    </div>\n",
              "  </div>\n"
            ]
          },
          "metadata": {}
        }
      ],
      "source": [
        "info = pd.DataFrame(data = [['Москва',15740,11056,15945],['Санкт-Петербург',5614,7003,5895]], columns = ['city', 'monday', 'wednesday', 'friday'])\n",
        "display(info)"
      ]
    },
    {
      "cell_type": "markdown",
      "metadata": {
        "deletable": false,
        "editable": false,
        "id": "-EgPIHYu_Zcu"
      },
      "source": [
        "**Выводы**\n",
        "\n",
        "Данные показывают разницу поведения пользователей:\n",
        "\n",
        "- В Москве пик прослушиваний приходится на понедельник и пятницу, а в среду заметен спад.\n",
        "- В Петербурге, наоборот, больше слушают музыку по средам. Активность в понедельник и пятницу здесь почти в равной мере уступает среде.\n",
        "\n",
        "Значит, данные говорят в пользу первой гипотезы."
      ]
    },
    {
      "cell_type": "markdown",
      "metadata": {
        "deletable": false,
        "editable": false,
        "id": "atZAxtq4_Zcu"
      },
      "source": [
        "### Музыка в начале и в конце недели"
      ]
    },
    {
      "cell_type": "markdown",
      "metadata": {
        "deletable": false,
        "editable": false,
        "id": "eXrQqXFH_Zcu"
      },
      "source": [
        "Согласно второй гипотезе, утром в понедельник в Москве преобладают одни жанры, а в Петербурге — другие. Так же и вечером пятницы преобладают разные жанры — в зависимости от города."
      ]
    },
    {
      "cell_type": "markdown",
      "metadata": {
        "deletable": false,
        "editable": false,
        "id": "S8UcW6Hw_Zcu",
        "tags": [
          "start_task"
        ]
      },
      "source": [
        "Разделим данные по городам"
      ]
    },
    {
      "cell_type": "code",
      "execution_count": 53,
      "metadata": {
        "deletable": false,
        "id": "qeaFfM_P_Zcu"
      },
      "outputs": [],
      "source": [
        "# получение таблицы moscow_general из тех строк таблицы df,\n",
        "# для которых значение в столбце 'city' равно 'Moscow'\n",
        "moscow_general = df[df['city']=='Moscow']"
      ]
    },
    {
      "cell_type": "code",
      "execution_count": 54,
      "metadata": {
        "deletable": false,
        "id": "ORaVRKto_Zcu"
      },
      "outputs": [],
      "source": [
        "# получение таблицы spb_general из тех строк таблицы df,\n",
        "# для которых значение в столбце 'city' равно 'Saint-Petersburg'\n",
        "spb_general = df[df['city']=='Saint-Petersburg']"
      ]
    },
    {
      "cell_type": "code",
      "execution_count": 55,
      "metadata": {
        "deletable": false,
        "id": "laJT9BYl_Zcu"
      },
      "outputs": [],
      "source": [
        "# Функция возвращает информацию о топ-10 жанров тех треков, которые прослушивали в указанный день, в промежутке между двумя отметками времени.\n",
        "\n",
        "# Объявление функции genre_weekday() с параметрами table, day, time1, time2,\n",
        "# которая возвращает информацию о самых популярных жанрах в указанный день в\n",
        "# заданное время:\n",
        "# 1) в переменную genre_df сохраняются те строки переданного датафрейма table, для\n",
        "#    которых одновременно:\n",
        "#    - значение в столбце day равно значению аргумента day\n",
        "#    - значение в столбце time больше значения аргумента time1\n",
        "#    - значение в столбце time меньше значения аргумента time2\n",
        "#    Используйте последовательную фильтрацию с помощью логической индексации.\n",
        "# 2) сгруппировать датафрейм genre_df по столбцу genre, взять один из его\n",
        "#    столбцов и посчитать методом count() количество записей для каждого из\n",
        "#    присутствующих жанров, получившийся Series записать в переменную\n",
        "#    genre_df_count\n",
        "# 3) отсортировать genre_df_count по убыванию встречаемости и сохранить\n",
        "#    в переменную genre_df_sorted\n",
        "# 4) вернуть Series из 10 первых значений genre_df_sorted, это будут топ-10\n",
        "#    популярных жанров (в указанный день, в заданное время)\n",
        "\n",
        "def genre_weekday(df, day, time1, time2):\n",
        "    # последовательная фильтрация\n",
        "    # оставляем в genre_df только те строки df, у которых день равен day\n",
        "    genre_df = df[df['day'] == day]\n",
        "    # оставляем в genre_df только те строки genre_df, у которых время меньше time2\n",
        "    genre_df = genre_df[genre_df['time']<time2]\n",
        "    # оставляем в genre_df только те строки genre_df, у которых время больше time1\n",
        "    genre_df = genre_df[genre_df['time']>time1]\n",
        "    # сгруппируем отфильтрованный датафрейм по столбцу с названиями жанров, возьмём столбец genre и посчитаем кол-во строк для каждого жанра методом count()\n",
        "    genre_df_grouped = genre_df.groupby('genre')['genre'].count()\n",
        "    # отсортируем результат по убыванию (чтобы в начале Series оказались самые популярные жанры)\n",
        "    genre_df_sorted = genre_df_grouped.sort_values(ascending = False)\n",
        "    # вернём Series с 10 самыми популярными жанрами в указанный отрезок времени заданного дня\n",
        "    return genre_df_sorted[:10]"
      ]
    },
    {
      "cell_type": "markdown",
      "metadata": {
        "deletable": false,
        "editable": false,
        "id": "la2s2_PF_Zcu",
        "tags": [
          "start_task"
        ]
      },
      "source": [
        "\n",
        "Cравним результаты функции `genre_weekday()` для Москвы и Санкт-Петербурга в понедельник утром (с 7:00 до 11:00) и в пятницу вечером (с 17:00 до 23:00):"
      ]
    },
    {
      "cell_type": "code",
      "execution_count": 56,
      "metadata": {
        "deletable": false,
        "id": "yz7itPUQ_Zcu",
        "colab": {
          "base_uri": "https://localhost:8080/"
        },
        "outputId": "55a755d1-6837-44db-9494-eb92d5b307c4"
      },
      "outputs": [
        {
          "output_type": "execute_result",
          "data": {
            "text/plain": [
              "genre\n",
              "pop            781\n",
              "dance          549\n",
              "electronic     480\n",
              "rock           474\n",
              "hiphop         286\n",
              "ruspop         186\n",
              "world          181\n",
              "rusrap         175\n",
              "alternative    164\n",
              "unknown        161\n",
              "Name: genre, dtype: int64"
            ]
          },
          "metadata": {},
          "execution_count": 56
        }
      ],
      "source": [
        "# вызов функции для утра понедельника в Москве (вместо df — таблица moscow_general)\n",
        "# объекты, хранящие время, являются строками и сравниваются как строки\n",
        "genre_weekday(moscow_general, 'Monday', '07:00', '11:00')"
      ]
    },
    {
      "cell_type": "code",
      "execution_count": 57,
      "metadata": {
        "deletable": false,
        "id": "kwUcHPdy_Zcu",
        "colab": {
          "base_uri": "https://localhost:8080/"
        },
        "outputId": "4bdcac0b-92e0-4249-ab1c-615aedc4cb9f"
      },
      "outputs": [
        {
          "output_type": "execute_result",
          "data": {
            "text/plain": [
              "genre\n",
              "pop            218\n",
              "dance          182\n",
              "rock           162\n",
              "electronic     147\n",
              "hiphop          80\n",
              "ruspop          64\n",
              "alternative     58\n",
              "rusrap          55\n",
              "jazz            44\n",
              "classical       40\n",
              "Name: genre, dtype: int64"
            ]
          },
          "metadata": {},
          "execution_count": 57
        }
      ],
      "source": [
        "genre_weekday(spb_general, 'Monday', '07:00', '11:00')\n",
        "# вызов функции для утра понедельника в Петербурге (вместо df — таблица spb_general)"
      ]
    },
    {
      "cell_type": "code",
      "execution_count": null,
      "metadata": {
        "deletable": false,
        "id": "EzXVRE1o_Zcu"
      },
      "outputs": [],
      "source": [
        "# вызов функции для вечера пятницы в Москве\n",
        "genre_weekday(moscow_general, 'Friday', '17:00', '23:00')"
      ]
    },
    {
      "cell_type": "code",
      "execution_count": null,
      "metadata": {
        "deletable": false,
        "id": "JZaEKu5v_Zcu"
      },
      "outputs": [],
      "source": [
        "# вызов функции для вечера пятницы в Петербурге\n",
        "genre_weekday(spb_general, 'Friday', '17:00', '23:00')"
      ]
    },
    {
      "cell_type": "markdown",
      "metadata": {
        "deletable": false,
        "editable": false,
        "id": "wrCe4MNX_Zcu"
      },
      "source": [
        "**Выводы**\n",
        "\n",
        "Если сравнить топ-10 жанров в понедельник утром, можно сделать такие выводы:\n",
        "\n",
        "1. В Москве и Петербурге слушают похожую музыку. Единственное отличие — в московский рейтинг вошёл жанр “world”, а в петербургский — джаз и классика.\n",
        "\n",
        "2. В Москве пропущенных значений оказалось так много, что значение `'unknown'` заняло десятое место среди самых популярных жанров. Значит, пропущенные значения занимают существенную долю в данных и угрожают достоверности исследования.\n",
        "\n",
        "Вечер пятницы не меняет эту картину. Некоторые жанры поднимаются немного выше, другие спускаются, но в целом топ-10 остаётся тем же самым.\n",
        "\n",
        "Таким образом, вторая гипотеза подтвердилась лишь частично:\n",
        "* Пользователи слушают похожую музыку в начале недели и в конце.\n",
        "* Разница между Москвой и Петербургом не слишком выражена. В Москве чаще слушают русскую популярную музыку, в Петербурге — джаз.\n",
        "\n",
        "Однако пропуски в данных ставят под сомнение этот результат. В Москве их так много, что рейтинг топ-10 мог бы выглядеть иначе, если бы не утерянные  данные о жанрах."
      ]
    },
    {
      "cell_type": "markdown",
      "metadata": {
        "deletable": false,
        "editable": false,
        "id": "JolODAqr_Zcu"
      },
      "source": [
        "### Жанровые предпочтения в Москве и Петербурге\n",
        "\n",
        "Гипотеза: Петербург — столица рэпа, музыку этого жанра там слушают чаще, чем в Москве.  А Москва — город контрастов, в котором, тем не менее, преобладает поп-музыка."
      ]
    },
    {
      "cell_type": "markdown",
      "metadata": {
        "deletable": false,
        "editable": false,
        "id": "DlegSvaT_Zcu",
        "tags": [
          "start_task"
        ]
      },
      "source": [
        "Посмотрим на прослушивания по городам"
      ]
    },
    {
      "cell_type": "code",
      "execution_count": null,
      "metadata": {
        "deletable": false,
        "id": "r19lIPke_Zcu"
      },
      "outputs": [],
      "source": [
        "# одной строкой: группировка таблицы moscow_general по столбцу 'genre',\n",
        "# подсчёт числа значений 'genre' в этой группировке методом count(),\n",
        "# сортировка получившегося Series в порядке убывания и сохранение в moscow_genres\n",
        "moscow_genres = moscow_general.groupby('genre')['genre'].count()\n",
        "moscow_genres = moscow_genres.sort_values(ascending = False)"
      ]
    },
    {
      "cell_type": "code",
      "execution_count": null,
      "metadata": {
        "deletable": false,
        "id": "WhCSooF8_Zcv",
        "outputId": "8f8538eb-46ac-4462-e1e6-635638ef6cae"
      },
      "outputs": [
        {
          "data": {
            "text/plain": [
              "genre\n",
              "pop            5892\n",
              "dance          4435\n",
              "rock           3965\n",
              "electronic     3786\n",
              "hiphop         2096\n",
              "classical      1616\n",
              "world          1432\n",
              "alternative    1379\n",
              "ruspop         1372\n",
              "rusrap         1161\n",
              "Name: genre, dtype: int64"
            ]
          },
          "execution_count": 38,
          "metadata": {},
          "output_type": "execute_result"
        }
      ],
      "source": [
        "# просмотр первых 10 строк moscow_genres\n",
        "moscow_genres.head(10)"
      ]
    },
    {
      "cell_type": "code",
      "execution_count": null,
      "metadata": {
        "deletable": false,
        "id": "gluLIpE7_Zcv"
      },
      "outputs": [],
      "source": [
        "# одной строкой: группировка таблицы spb_general по столбцу 'genre',\n",
        "# подсчёт числа значений 'genre' в этой группировке методом count(),\n",
        "# сортировка получившегося Series в порядке убывания и сохранение в spb_genres\n",
        "spb_genres = spb_general.groupby('genre')['genre'].count()\n",
        "spb_genres = spb_genres.sort_values(ascending = False)"
      ]
    },
    {
      "cell_type": "code",
      "execution_count": null,
      "metadata": {
        "deletable": false,
        "id": "uaGJHjVU_Zcv"
      },
      "outputs": [],
      "source": [
        "# просмотр первых 10 строк spb_genres\n",
        "spb_genres.head(10)"
      ]
    },
    {
      "cell_type": "markdown",
      "metadata": {
        "deletable": false,
        "editable": false,
        "id": "RY51YJYu_Zcv"
      },
      "source": [
        "**Выводы**"
      ]
    },
    {
      "cell_type": "markdown",
      "metadata": {
        "deletable": false,
        "editable": false,
        "id": "nVhnJEm__Zcv"
      },
      "source": [
        "Гипотеза частично подтвердилась:\n",
        "* Поп-музыка — самый популярный жанр в Москве, как и предполагала гипотеза. Более того, в топ-10 жанров встречается близкий жанр — русская популярная музыка.\n",
        "* Вопреки ожиданиям, рэп одинаково популярен в Москве и Петербурге.\n"
      ]
    },
    {
      "cell_type": "markdown",
      "metadata": {
        "deletable": false,
        "editable": false,
        "id": "ykKQ0N65_Zcv"
      },
      "source": [
        "## Итоги исследования"
      ]
    },
    {
      "cell_type": "markdown",
      "metadata": {
        "deletable": false,
        "editable": false,
        "id": "tjUwbHb3_Zcv"
      },
      "source": [
        "Вы проверили три гипотезы и установили:\n",
        "\n",
        "1. День недели по-разному влияет на активность пользователей в Москве и Петербурге.\n",
        "\n",
        "Первая гипотеза полностью подтвердилась.\n",
        "\n",
        "2. Музыкальные предпочтения не сильно меняются в течение недели — будь то Москва или Петербург. Небольшие различия заметны в начале недели, по понедельникам:\n",
        "* в Москве слушают музыку жанра “world”,\n",
        "* в Петербурге — джаз и классику.\n",
        "\n",
        "Таким образом, вторая гипотеза подтвердилась лишь отчасти. Этот результат мог оказаться иным, если бы не пропуски в данных.\n",
        "\n",
        "3. Во вкусах пользователей Москвы и Петербурга больше общего чем различий. Вопреки ожиданиям, предпочтения жанров в Петербурге напоминают московские.\n",
        "\n",
        "Третья гипотеза не подтвердилась. Если различия в предпочтениях и существуют, на основной массе пользователей они незаметны.\n",
        "\n",
        "**На практике исследования содержат проверки статистических гипотез.**\n",
        "Из данных одного сервиса не всегда можно сделать вывод о всех жителях города.\n",
        "Проверки статистических гипотез покажут, насколько они достоверны, исходя из имеющихся данных.\n",
        "С методами проверок гипотез вы ещё познакомитесь в следующих темах."
      ]
    }
  ],
  "metadata": {
    "ExecuteTimeLog": [
      {
        "duration": 450,
        "start_time": "2022-10-10T04:05:05.718Z"
      },
      {
        "duration": 67,
        "start_time": "2022-10-10T04:11:45.446Z"
      },
      {
        "duration": 8,
        "start_time": "2022-10-10T04:11:56.455Z"
      },
      {
        "duration": 230,
        "start_time": "2022-10-10T04:12:04.922Z"
      },
      {
        "duration": 20,
        "start_time": "2022-10-10T04:12:08.297Z"
      },
      {
        "duration": 28,
        "start_time": "2022-10-10T04:12:12.772Z"
      },
      {
        "duration": 2,
        "start_time": "2022-10-10T04:12:17.850Z"
      },
      {
        "duration": 5,
        "start_time": "2022-10-10T04:12:21.118Z"
      },
      {
        "duration": 24,
        "start_time": "2022-10-10T04:12:25.641Z"
      },
      {
        "duration": 4,
        "start_time": "2022-10-10T04:12:49.008Z"
      },
      {
        "duration": 177,
        "start_time": "2022-10-10T04:13:29.300Z"
      },
      {
        "duration": 22,
        "start_time": "2022-10-10T04:13:41.718Z"
      },
      {
        "duration": 26,
        "start_time": "2022-10-10T04:15:15.070Z"
      },
      {
        "duration": 22,
        "start_time": "2022-10-10T04:21:14.572Z"
      },
      {
        "duration": 44,
        "start_time": "2022-10-10T04:21:40.593Z"
      },
      {
        "duration": 24,
        "start_time": "2022-10-10T04:22:04.035Z"
      },
      {
        "duration": 44,
        "start_time": "2022-10-10T08:54:29.034Z"
      },
      {
        "duration": 7,
        "start_time": "2022-10-10T09:01:22.160Z"
      },
      {
        "duration": 7,
        "start_time": "2022-10-10T09:02:26.898Z"
      },
      {
        "duration": 6,
        "start_time": "2022-10-10T09:05:15.798Z"
      },
      {
        "duration": 6,
        "start_time": "2022-10-10T09:09:48.473Z"
      },
      {
        "duration": 6,
        "start_time": "2022-10-10T09:10:03.121Z"
      },
      {
        "duration": 393,
        "start_time": "2022-10-10T09:10:05.649Z"
      },
      {
        "duration": 3,
        "start_time": "2022-10-10T09:10:08.646Z"
      },
      {
        "duration": 233,
        "start_time": "2022-10-10T09:10:10.619Z"
      },
      {
        "duration": 167,
        "start_time": "2022-10-10T09:10:13.164Z"
      },
      {
        "duration": 16,
        "start_time": "2022-10-10T09:10:16.615Z"
      },
      {
        "duration": 27,
        "start_time": "2022-10-10T09:10:20.280Z"
      },
      {
        "duration": 7,
        "start_time": "2022-10-10T09:10:28.157Z"
      },
      {
        "duration": 11,
        "start_time": "2022-10-10T09:10:31.021Z"
      },
      {
        "duration": 3,
        "start_time": "2022-10-10T09:10:33.934Z"
      },
      {
        "duration": 26,
        "start_time": "2022-10-10T09:10:36.139Z"
      },
      {
        "duration": 19,
        "start_time": "2022-10-10T09:10:41.877Z"
      },
      {
        "duration": 27,
        "start_time": "2022-10-10T09:10:44.859Z"
      },
      {
        "duration": 62,
        "start_time": "2022-10-10T09:10:47.355Z"
      },
      {
        "duration": 62,
        "start_time": "2022-10-10T09:10:49.862Z"
      },
      {
        "duration": 63,
        "start_time": "2022-10-10T09:10:52.006Z"
      },
      {
        "duration": 30,
        "start_time": "2022-10-10T09:10:54.778Z"
      },
      {
        "duration": 8,
        "start_time": "2022-10-10T09:11:36.583Z"
      },
      {
        "duration": 10,
        "start_time": "2022-10-10T09:12:45.730Z"
      },
      {
        "duration": 50,
        "start_time": "2022-10-10T09:13:16.224Z"
      },
      {
        "duration": 39,
        "start_time": "2022-10-10T09:13:23.074Z"
      },
      {
        "duration": 41,
        "start_time": "2022-10-10T09:13:57.301Z"
      },
      {
        "duration": 44,
        "start_time": "2022-10-10T09:14:49.096Z"
      },
      {
        "duration": 43,
        "start_time": "2022-10-10T09:15:15.143Z"
      },
      {
        "duration": 38,
        "start_time": "2022-10-10T09:15:26.085Z"
      },
      {
        "duration": 40,
        "start_time": "2022-10-10T09:15:28.454Z"
      },
      {
        "duration": 55,
        "start_time": "2022-10-10T09:16:44.612Z"
      },
      {
        "duration": 43,
        "start_time": "2022-10-10T09:16:52.186Z"
      },
      {
        "duration": 37,
        "start_time": "2022-10-10T09:17:13.291Z"
      },
      {
        "duration": 42,
        "start_time": "2022-10-10T09:18:06.135Z"
      },
      {
        "duration": 8,
        "start_time": "2022-10-10T09:20:19.701Z"
      },
      {
        "duration": 6,
        "start_time": "2022-10-10T09:20:32.077Z"
      },
      {
        "duration": 7,
        "start_time": "2022-10-10T09:20:51.720Z"
      },
      {
        "duration": 6,
        "start_time": "2022-10-10T09:23:30.099Z"
      },
      {
        "duration": 4,
        "start_time": "2022-10-10T09:23:33.027Z"
      },
      {
        "duration": 8,
        "start_time": "2022-10-10T09:24:34.421Z"
      },
      {
        "duration": 10,
        "start_time": "2022-10-10T09:24:45.049Z"
      },
      {
        "duration": 11,
        "start_time": "2022-10-10T09:24:47.242Z"
      },
      {
        "duration": 4,
        "start_time": "2022-10-10T09:25:24.691Z"
      },
      {
        "duration": 13,
        "start_time": "2022-10-10T09:26:26.407Z"
      },
      {
        "duration": 9,
        "start_time": "2022-10-10T09:26:46.822Z"
      },
      {
        "duration": 9,
        "start_time": "2022-10-10T09:26:49.458Z"
      },
      {
        "duration": 5,
        "start_time": "2022-10-10T09:26:50.993Z"
      },
      {
        "duration": 6,
        "start_time": "2022-10-10T09:27:50.023Z"
      },
      {
        "duration": 7,
        "start_time": "2022-10-10T09:27:59.542Z"
      },
      {
        "duration": 7,
        "start_time": "2022-10-10T09:29:41.000Z"
      },
      {
        "duration": 45,
        "start_time": "2022-10-10T09:31:09.360Z"
      },
      {
        "duration": 8,
        "start_time": "2022-10-10T09:31:41.438Z"
      },
      {
        "duration": 77,
        "start_time": "2022-10-10T09:31:58.074Z"
      },
      {
        "duration": 76,
        "start_time": "2022-10-10T09:32:09.327Z"
      },
      {
        "duration": 78,
        "start_time": "2022-10-10T09:32:59.666Z"
      },
      {
        "duration": 43,
        "start_time": "2022-10-10T09:33:23.189Z"
      },
      {
        "duration": 44,
        "start_time": "2022-10-10T09:33:25.573Z"
      },
      {
        "duration": 20,
        "start_time": "2022-10-10T09:33:39.788Z"
      },
      {
        "duration": 17,
        "start_time": "2022-10-10T09:33:48.073Z"
      },
      {
        "duration": 166,
        "start_time": "2022-10-10T09:34:03.332Z"
      },
      {
        "duration": 12,
        "start_time": "2022-10-10T09:34:05.803Z"
      },
      {
        "duration": 55,
        "start_time": "2022-10-10T09:34:10.235Z"
      },
      {
        "duration": 5,
        "start_time": "2022-10-10T09:34:15.115Z"
      },
      {
        "duration": 7,
        "start_time": "2022-10-10T09:34:18.508Z"
      },
      {
        "duration": 4,
        "start_time": "2022-10-10T09:34:20.659Z"
      },
      {
        "duration": 26,
        "start_time": "2022-10-10T09:34:23.012Z"
      },
      {
        "duration": 18,
        "start_time": "2022-10-10T09:34:25.608Z"
      },
      {
        "duration": 34,
        "start_time": "2022-10-10T09:34:28.774Z"
      },
      {
        "duration": 64,
        "start_time": "2022-10-10T09:34:32.602Z"
      },
      {
        "duration": 63,
        "start_time": "2022-10-10T09:34:35.426Z"
      },
      {
        "duration": 58,
        "start_time": "2022-10-10T09:34:37.610Z"
      },
      {
        "duration": 43,
        "start_time": "2022-10-10T09:34:39.921Z"
      },
      {
        "duration": 11,
        "start_time": "2022-10-10T09:34:45.404Z"
      },
      {
        "duration": 50,
        "start_time": "2022-10-10T09:34:53.440Z"
      },
      {
        "duration": 3845,
        "start_time": "2022-10-10T09:38:02.152Z"
      },
      {
        "duration": 3966,
        "start_time": "2022-10-10T09:38:18.884Z"
      },
      {
        "duration": 30,
        "start_time": "2022-10-10T09:38:58.484Z"
      },
      {
        "duration": 55,
        "start_time": "2022-10-10T09:39:32.571Z"
      },
      {
        "duration": 42,
        "start_time": "2022-10-10T09:39:41.044Z"
      },
      {
        "duration": 51,
        "start_time": "2022-10-10T09:40:01.669Z"
      },
      {
        "duration": 18,
        "start_time": "2022-10-10T09:40:39.662Z"
      },
      {
        "duration": 7,
        "start_time": "2022-10-10T09:41:15.244Z"
      },
      {
        "duration": 12,
        "start_time": "2022-10-10T09:41:44.622Z"
      },
      {
        "duration": 11,
        "start_time": "2022-10-10T09:41:55.832Z"
      },
      {
        "duration": 9,
        "start_time": "2022-10-10T09:42:02.035Z"
      },
      {
        "duration": 40,
        "start_time": "2022-10-10T09:42:10.602Z"
      },
      {
        "duration": 54,
        "start_time": "2022-10-10T09:42:24.799Z"
      },
      {
        "duration": 31,
        "start_time": "2022-10-10T09:42:46.826Z"
      },
      {
        "duration": 34,
        "start_time": "2022-10-10T09:43:41.760Z"
      },
      {
        "duration": 12,
        "start_time": "2022-10-10T09:45:09.435Z"
      },
      {
        "duration": 990,
        "start_time": "2022-10-10T09:45:23.999Z"
      },
      {
        "duration": 49,
        "start_time": "2022-10-10T09:45:56.529Z"
      },
      {
        "duration": 30,
        "start_time": "2022-10-10T09:46:07.700Z"
      },
      {
        "duration": 3414,
        "start_time": "2022-10-10T09:55:02.492Z"
      },
      {
        "duration": 1092,
        "start_time": "2022-10-10T09:55:06.188Z"
      },
      {
        "duration": 131,
        "start_time": "2022-10-10T09:57:39.394Z"
      },
      {
        "duration": 65,
        "start_time": "2022-10-10T09:57:56.765Z"
      },
      {
        "duration": 16,
        "start_time": "2022-10-10T09:58:09.296Z"
      },
      {
        "duration": 9,
        "start_time": "2022-10-10T09:58:40.369Z"
      },
      {
        "duration": 18,
        "start_time": "2022-10-10T09:59:40.732Z"
      },
      {
        "duration": 13,
        "start_time": "2022-10-10T09:59:53.853Z"
      },
      {
        "duration": 9,
        "start_time": "2022-10-10T10:03:23.147Z"
      },
      {
        "duration": 11,
        "start_time": "2022-10-10T10:03:47.143Z"
      },
      {
        "duration": 13,
        "start_time": "2022-10-10T10:04:58.751Z"
      },
      {
        "duration": 2,
        "start_time": "2022-10-10T10:05:02.028Z"
      },
      {
        "duration": 13,
        "start_time": "2022-10-10T10:06:34.486Z"
      },
      {
        "duration": 2195,
        "start_time": "2022-10-10T10:07:14.936Z"
      },
      {
        "duration": 6,
        "start_time": "2022-10-10T10:07:56.640Z"
      },
      {
        "duration": 1435,
        "start_time": "2022-10-10T10:08:00.768Z"
      },
      {
        "duration": 2,
        "start_time": "2022-10-10T10:08:02.656Z"
      },
      {
        "duration": 1657,
        "start_time": "2022-10-10T10:08:07.448Z"
      },
      {
        "duration": 1223,
        "start_time": "2022-10-10T10:08:30.332Z"
      },
      {
        "duration": 1059,
        "start_time": "2022-10-10T10:08:51.133Z"
      },
      {
        "duration": 908,
        "start_time": "2022-10-10T10:09:06.124Z"
      },
      {
        "duration": 1165,
        "start_time": "2022-10-10T10:09:47.430Z"
      },
      {
        "duration": 547,
        "start_time": "2022-10-10T10:12:30.953Z"
      },
      {
        "duration": 4,
        "start_time": "2022-10-10T10:12:39.158Z"
      },
      {
        "duration": 5,
        "start_time": "2022-10-10T10:12:43.141Z"
      },
      {
        "duration": 4,
        "start_time": "2022-10-10T10:15:14.493Z"
      },
      {
        "duration": 95,
        "start_time": "2022-10-10T10:16:27.276Z"
      },
      {
        "duration": 4,
        "start_time": "2022-10-10T10:17:16.095Z"
      },
      {
        "duration": 11,
        "start_time": "2022-10-10T10:17:44.929Z"
      },
      {
        "duration": 931,
        "start_time": "2022-10-10T10:17:58.977Z"
      },
      {
        "duration": 1352,
        "start_time": "2022-10-10T10:19:09.665Z"
      },
      {
        "duration": 921,
        "start_time": "2022-10-10T10:20:35.404Z"
      },
      {
        "duration": 657,
        "start_time": "2022-10-10T10:21:05.021Z"
      },
      {
        "duration": 44,
        "start_time": "2022-10-10T10:21:41.524Z"
      },
      {
        "duration": 35,
        "start_time": "2022-10-10T10:21:50.013Z"
      },
      {
        "duration": 39,
        "start_time": "2022-10-10T10:21:57.614Z"
      },
      {
        "duration": 38,
        "start_time": "2022-10-10T10:22:05.380Z"
      },
      {
        "duration": 774,
        "start_time": "2022-10-10T10:23:23.831Z"
      },
      {
        "duration": 4,
        "start_time": "2022-10-10T10:23:41.456Z"
      },
      {
        "duration": 12,
        "start_time": "2022-10-10T10:23:45.682Z"
      },
      {
        "duration": 4,
        "start_time": "2022-10-10T10:24:04.957Z"
      },
      {
        "duration": 4,
        "start_time": "2022-10-10T10:24:07.797Z"
      },
      {
        "duration": 4,
        "start_time": "2022-10-10T10:24:20.954Z"
      },
      {
        "duration": 4,
        "start_time": "2022-10-10T10:25:08.669Z"
      },
      {
        "duration": 4,
        "start_time": "2022-10-10T10:25:12.036Z"
      },
      {
        "duration": 881,
        "start_time": "2022-10-10T10:26:12.054Z"
      },
      {
        "duration": 17,
        "start_time": "2022-10-10T10:26:28.254Z"
      },
      {
        "duration": 13,
        "start_time": "2022-10-10T10:26:42.092Z"
      },
      {
        "duration": 895,
        "start_time": "2022-10-10T10:26:49.990Z"
      },
      {
        "duration": 753,
        "start_time": "2022-10-10T10:26:53.052Z"
      },
      {
        "duration": 89,
        "start_time": "2022-10-10T10:27:27.984Z"
      },
      {
        "duration": 64,
        "start_time": "2022-10-10T10:28:11.991Z"
      },
      {
        "duration": 64,
        "start_time": "2022-10-10T10:28:26.473Z"
      },
      {
        "duration": 69,
        "start_time": "2022-10-10T10:28:31.608Z"
      },
      {
        "duration": 80,
        "start_time": "2022-10-10T10:29:06.106Z"
      },
      {
        "duration": 126,
        "start_time": "2022-10-10T10:29:14.684Z"
      },
      {
        "duration": 94,
        "start_time": "2022-10-10T10:29:36.742Z"
      },
      {
        "duration": 70,
        "start_time": "2022-10-10T10:29:44.562Z"
      },
      {
        "duration": 52,
        "start_time": "2022-10-10T10:29:53.371Z"
      },
      {
        "duration": 5,
        "start_time": "2022-10-10T10:30:14.025Z"
      },
      {
        "duration": 30,
        "start_time": "2022-10-10T10:30:19.423Z"
      },
      {
        "duration": 27,
        "start_time": "2022-10-10T10:31:08.581Z"
      },
      {
        "duration": 32,
        "start_time": "2022-10-10T10:37:47.717Z"
      },
      {
        "duration": 26,
        "start_time": "2022-10-10T10:38:17.648Z"
      },
      {
        "duration": 19,
        "start_time": "2022-10-10T10:39:51.400Z"
      },
      {
        "duration": 26,
        "start_time": "2022-10-10T10:40:08.197Z"
      },
      {
        "duration": 26,
        "start_time": "2022-10-10T10:40:31.181Z"
      },
      {
        "duration": 54,
        "start_time": "2022-10-10T12:14:15.900Z"
      },
      {
        "duration": 9,
        "start_time": "2022-10-10T12:14:27.174Z"
      },
      {
        "duration": 9,
        "start_time": "2022-10-10T12:14:39.051Z"
      },
      {
        "duration": 10,
        "start_time": "2022-10-10T12:15:33.908Z"
      },
      {
        "duration": 10,
        "start_time": "2022-10-10T12:15:54.914Z"
      },
      {
        "duration": 9,
        "start_time": "2022-10-10T12:16:05.712Z"
      },
      {
        "duration": 9,
        "start_time": "2022-10-10T12:17:37.839Z"
      },
      {
        "duration": 10,
        "start_time": "2022-10-10T12:18:05.394Z"
      },
      {
        "duration": 3,
        "start_time": "2022-10-10T12:18:13.224Z"
      },
      {
        "duration": 4,
        "start_time": "2022-10-10T12:18:29.881Z"
      },
      {
        "duration": 4,
        "start_time": "2022-10-10T12:18:36.029Z"
      },
      {
        "duration": 2,
        "start_time": "2022-10-10T12:18:46.156Z"
      },
      {
        "duration": 3,
        "start_time": "2022-10-10T12:18:48.139Z"
      },
      {
        "duration": 7,
        "start_time": "2022-10-10T12:18:54.100Z"
      },
      {
        "duration": 7,
        "start_time": "2022-10-10T12:19:03.159Z"
      },
      {
        "duration": 420,
        "start_time": "2022-10-10T12:19:05.508Z"
      },
      {
        "duration": 249,
        "start_time": "2022-10-10T12:19:07.548Z"
      },
      {
        "duration": 179,
        "start_time": "2022-10-10T12:19:16.497Z"
      },
      {
        "duration": 18,
        "start_time": "2022-10-10T12:19:18.447Z"
      },
      {
        "duration": 29,
        "start_time": "2022-10-10T12:19:21.849Z"
      },
      {
        "duration": 4,
        "start_time": "2022-10-10T12:19:28.044Z"
      },
      {
        "duration": 12,
        "start_time": "2022-10-10T12:19:30.711Z"
      },
      {
        "duration": 5,
        "start_time": "2022-10-10T12:19:32.775Z"
      },
      {
        "duration": 27,
        "start_time": "2022-10-10T12:19:35.485Z"
      },
      {
        "duration": 16,
        "start_time": "2022-10-10T12:19:38.456Z"
      },
      {
        "duration": 23,
        "start_time": "2022-10-10T12:19:41.073Z"
      },
      {
        "duration": 71,
        "start_time": "2022-10-10T12:19:43.572Z"
      },
      {
        "duration": 66,
        "start_time": "2022-10-10T12:19:45.620Z"
      },
      {
        "duration": 62,
        "start_time": "2022-10-10T12:19:47.760Z"
      },
      {
        "duration": 35,
        "start_time": "2022-10-10T12:19:49.843Z"
      },
      {
        "duration": 13,
        "start_time": "2022-10-10T12:19:53.170Z"
      },
      {
        "duration": 40,
        "start_time": "2022-10-10T12:19:56.511Z"
      },
      {
        "duration": 33,
        "start_time": "2022-10-10T12:20:01.374Z"
      },
      {
        "duration": 35,
        "start_time": "2022-10-10T12:20:03.528Z"
      },
      {
        "duration": 3,
        "start_time": "2022-10-10T12:20:11.272Z"
      },
      {
        "duration": 821,
        "start_time": "2022-10-10T12:20:43.595Z"
      },
      {
        "duration": 569,
        "start_time": "2022-10-10T12:21:06.108Z"
      },
      {
        "duration": 1129,
        "start_time": "2022-10-10T12:21:38.086Z"
      },
      {
        "duration": 747,
        "start_time": "2022-10-10T12:22:08.711Z"
      },
      {
        "duration": 669,
        "start_time": "2022-10-10T12:22:26.762Z"
      },
      {
        "duration": 7,
        "start_time": "2022-10-10T12:22:38.844Z"
      },
      {
        "duration": 542,
        "start_time": "2022-10-10T12:23:06.028Z"
      },
      {
        "duration": 50,
        "start_time": "2022-10-10T12:23:16.217Z"
      },
      {
        "duration": 19,
        "start_time": "2022-10-10T12:23:53.038Z"
      },
      {
        "duration": 24,
        "start_time": "2022-10-10T12:24:27.956Z"
      },
      {
        "duration": 18,
        "start_time": "2022-10-10T12:24:38.418Z"
      },
      {
        "duration": 21,
        "start_time": "2022-10-10T12:26:47.603Z"
      },
      {
        "duration": 18,
        "start_time": "2022-10-10T12:26:50.330Z"
      },
      {
        "duration": 18,
        "start_time": "2022-10-10T12:26:57.091Z"
      },
      {
        "duration": 24,
        "start_time": "2022-10-10T12:27:44.505Z"
      },
      {
        "duration": 22,
        "start_time": "2022-10-10T12:28:06.271Z"
      },
      {
        "duration": 19,
        "start_time": "2022-10-10T12:28:30.934Z"
      },
      {
        "duration": 18,
        "start_time": "2022-10-10T12:28:37.036Z"
      },
      {
        "duration": 17,
        "start_time": "2022-10-10T12:28:41.736Z"
      },
      {
        "duration": 3,
        "start_time": "2022-10-10T12:28:43.142Z"
      },
      {
        "duration": 2,
        "start_time": "2022-10-10T12:28:43.807Z"
      },
      {
        "duration": 18,
        "start_time": "2022-10-10T12:28:59.271Z"
      },
      {
        "duration": 4,
        "start_time": "2022-10-10T12:38:50.755Z"
      },
      {
        "duration": 2,
        "start_time": "2022-10-10T12:39:24.934Z"
      },
      {
        "duration": 19,
        "start_time": "2022-10-10T12:39:48.387Z"
      },
      {
        "duration": 16,
        "start_time": "2022-10-10T12:39:58.804Z"
      },
      {
        "duration": 19,
        "start_time": "2022-10-10T12:40:02.534Z"
      },
      {
        "duration": 14,
        "start_time": "2022-10-10T12:40:18.192Z"
      },
      {
        "duration": 15,
        "start_time": "2022-10-10T12:42:11.203Z"
      },
      {
        "duration": 17,
        "start_time": "2022-10-10T12:42:18.361Z"
      },
      {
        "duration": 13,
        "start_time": "2022-10-10T12:42:30.763Z"
      },
      {
        "duration": 428,
        "start_time": "2022-10-11T09:04:18.658Z"
      },
      {
        "duration": 687,
        "start_time": "2022-10-11T09:04:21.836Z"
      },
      {
        "duration": 19,
        "start_time": "2022-10-11T09:04:25.655Z"
      },
      {
        "duration": 3069,
        "start_time": "2022-10-11T09:04:34.606Z"
      },
      {
        "duration": 17,
        "start_time": "2022-10-11T09:04:48.220Z"
      },
      {
        "duration": 2,
        "start_time": "2022-10-11T09:04:55.350Z"
      },
      {
        "duration": 223,
        "start_time": "2022-10-11T09:05:05.365Z"
      },
      {
        "duration": 13,
        "start_time": "2022-10-11T09:05:07.674Z"
      },
      {
        "duration": 40,
        "start_time": "2022-10-11T09:05:10.916Z"
      },
      {
        "duration": 8,
        "start_time": "2022-10-11T09:05:18.018Z"
      },
      {
        "duration": 5,
        "start_time": "2022-10-11T09:05:21.630Z"
      },
      {
        "duration": 27,
        "start_time": "2022-10-11T09:05:26.043Z"
      },
      {
        "duration": 2206,
        "start_time": "2022-10-11T09:05:29.680Z"
      },
      {
        "duration": 1895,
        "start_time": "2022-10-11T09:05:38.281Z"
      },
      {
        "duration": 13,
        "start_time": "2022-10-11T09:05:53.474Z"
      },
      {
        "duration": 5,
        "start_time": "2022-10-11T09:05:55.839Z"
      },
      {
        "duration": 31,
        "start_time": "2022-10-11T09:05:59.351Z"
      },
      {
        "duration": 30,
        "start_time": "2022-10-11T09:06:02.556Z"
      },
      {
        "duration": 32,
        "start_time": "2022-10-11T09:06:07.426Z"
      },
      {
        "duration": 117,
        "start_time": "2022-10-11T09:06:10.319Z"
      },
      {
        "duration": 108,
        "start_time": "2022-10-11T09:06:15.129Z"
      },
      {
        "duration": 75,
        "start_time": "2022-10-11T09:06:17.220Z"
      },
      {
        "duration": 61,
        "start_time": "2022-10-11T09:06:20.335Z"
      },
      {
        "duration": 41,
        "start_time": "2022-10-11T09:06:26.188Z"
      },
      {
        "duration": 53,
        "start_time": "2022-10-11T09:06:30.245Z"
      },
      {
        "duration": 41,
        "start_time": "2022-10-11T09:06:35.523Z"
      },
      {
        "duration": 49,
        "start_time": "2022-10-11T09:06:38.716Z"
      },
      {
        "duration": 22,
        "start_time": "2022-10-11T09:06:43.175Z"
      },
      {
        "duration": 27,
        "start_time": "2022-10-11T09:09:07.354Z"
      },
      {
        "duration": 47,
        "start_time": "2022-10-11T12:47:23.903Z"
      },
      {
        "duration": 404,
        "start_time": "2022-10-11T12:47:30.452Z"
      },
      {
        "duration": 217,
        "start_time": "2022-10-11T12:49:07.445Z"
      },
      {
        "duration": 15,
        "start_time": "2022-10-11T12:49:07.833Z"
      },
      {
        "duration": 28,
        "start_time": "2022-10-11T12:49:08.200Z"
      },
      {
        "duration": 2,
        "start_time": "2022-10-11T12:49:08.731Z"
      },
      {
        "duration": 4,
        "start_time": "2022-10-11T12:49:09.378Z"
      },
      {
        "duration": 11,
        "start_time": "2022-10-11T12:49:09.742Z"
      },
      {
        "duration": 4,
        "start_time": "2022-10-11T12:49:10.133Z"
      },
      {
        "duration": 23,
        "start_time": "2022-10-11T12:49:10.497Z"
      },
      {
        "duration": 20,
        "start_time": "2022-10-11T12:49:11.006Z"
      },
      {
        "duration": 24,
        "start_time": "2022-10-11T12:49:11.324Z"
      },
      {
        "duration": 67,
        "start_time": "2022-10-11T12:49:11.665Z"
      },
      {
        "duration": 65,
        "start_time": "2022-10-11T12:49:12.030Z"
      },
      {
        "duration": 61,
        "start_time": "2022-10-11T12:49:12.393Z"
      },
      {
        "duration": 39,
        "start_time": "2022-10-11T12:49:12.952Z"
      },
      {
        "duration": 13,
        "start_time": "2022-10-11T12:49:13.279Z"
      },
      {
        "duration": 40,
        "start_time": "2022-10-11T12:49:13.669Z"
      },
      {
        "duration": 31,
        "start_time": "2022-10-11T12:49:15.035Z"
      },
      {
        "duration": 37,
        "start_time": "2022-10-11T12:49:15.669Z"
      },
      {
        "duration": 14,
        "start_time": "2022-10-11T12:49:17.559Z"
      },
      {
        "duration": 13,
        "start_time": "2022-10-11T16:01:13.406Z"
      },
      {
        "duration": 14,
        "start_time": "2022-10-11T16:01:17.276Z"
      },
      {
        "duration": 15,
        "start_time": "2022-10-11T16:01:48.715Z"
      },
      {
        "duration": 15,
        "start_time": "2022-10-11T16:02:49.620Z"
      },
      {
        "duration": 13,
        "start_time": "2022-10-11T16:03:17.226Z"
      },
      {
        "duration": 15,
        "start_time": "2022-10-11T16:05:37.499Z"
      },
      {
        "duration": 14,
        "start_time": "2022-10-11T16:05:54.024Z"
      },
      {
        "duration": 14,
        "start_time": "2022-10-11T16:06:49.545Z"
      },
      {
        "duration": 438,
        "start_time": "2022-10-12T15:18:11.264Z"
      },
      {
        "duration": 815,
        "start_time": "2022-10-12T15:18:11.704Z"
      },
      {
        "duration": 16,
        "start_time": "2022-10-12T15:18:12.521Z"
      },
      {
        "duration": 31,
        "start_time": "2022-10-12T15:18:12.538Z"
      },
      {
        "duration": 2,
        "start_time": "2022-10-12T15:18:13.018Z"
      },
      {
        "duration": 5,
        "start_time": "2022-10-12T15:18:13.817Z"
      },
      {
        "duration": 11,
        "start_time": "2022-10-12T15:18:14.198Z"
      },
      {
        "duration": 4,
        "start_time": "2022-10-12T15:18:14.624Z"
      },
      {
        "duration": 22,
        "start_time": "2022-10-12T15:18:15.024Z"
      },
      {
        "duration": 20,
        "start_time": "2022-10-12T15:18:15.609Z"
      },
      {
        "duration": 29,
        "start_time": "2022-10-12T15:18:15.999Z"
      },
      {
        "duration": 64,
        "start_time": "2022-10-12T15:18:16.397Z"
      },
      {
        "duration": 87,
        "start_time": "2022-10-12T15:18:16.812Z"
      },
      {
        "duration": 58,
        "start_time": "2022-10-12T15:18:17.212Z"
      },
      {
        "duration": 36,
        "start_time": "2022-10-12T15:18:17.839Z"
      },
      {
        "duration": 12,
        "start_time": "2022-10-12T15:18:18.256Z"
      },
      {
        "duration": 35,
        "start_time": "2022-10-12T15:18:18.663Z"
      },
      {
        "duration": 33,
        "start_time": "2022-10-12T15:18:21.311Z"
      },
      {
        "duration": 36,
        "start_time": "2022-10-12T15:18:22.604Z"
      },
      {
        "duration": 14,
        "start_time": "2022-10-12T15:18:25.321Z"
      },
      {
        "duration": 452,
        "start_time": "2022-10-12T17:53:29.966Z"
      },
      {
        "duration": 170,
        "start_time": "2022-10-12T17:53:30.419Z"
      },
      {
        "duration": 18,
        "start_time": "2022-10-12T17:53:30.590Z"
      },
      {
        "duration": 41,
        "start_time": "2022-10-12T17:53:30.610Z"
      },
      {
        "duration": 3,
        "start_time": "2022-10-12T17:53:30.653Z"
      },
      {
        "duration": 7,
        "start_time": "2022-10-12T17:53:30.658Z"
      },
      {
        "duration": 16,
        "start_time": "2022-10-12T17:53:30.666Z"
      },
      {
        "duration": 13,
        "start_time": "2022-10-12T17:53:30.684Z"
      },
      {
        "duration": 27,
        "start_time": "2022-10-12T17:53:30.698Z"
      },
      {
        "duration": 19,
        "start_time": "2022-10-12T17:53:30.727Z"
      },
      {
        "duration": 26,
        "start_time": "2022-10-12T17:53:30.748Z"
      },
      {
        "duration": 80,
        "start_time": "2022-10-12T17:53:30.776Z"
      },
      {
        "duration": 79,
        "start_time": "2022-10-12T17:53:30.858Z"
      },
      {
        "duration": 67,
        "start_time": "2022-10-12T17:53:30.938Z"
      },
      {
        "duration": 37,
        "start_time": "2022-10-12T17:53:31.007Z"
      },
      {
        "duration": 11,
        "start_time": "2022-10-12T17:53:31.045Z"
      },
      {
        "duration": 58,
        "start_time": "2022-10-12T17:53:31.058Z"
      },
      {
        "duration": 28,
        "start_time": "2022-10-12T17:53:31.117Z"
      },
      {
        "duration": 32,
        "start_time": "2022-10-12T17:53:31.147Z"
      },
      {
        "duration": 15,
        "start_time": "2022-10-12T17:53:31.180Z"
      },
      {
        "duration": 69,
        "start_time": "2022-10-12T17:53:31.197Z"
      },
      {
        "duration": 0,
        "start_time": "2022-10-12T17:53:31.268Z"
      },
      {
        "duration": 0,
        "start_time": "2022-10-12T17:53:31.270Z"
      },
      {
        "duration": 0,
        "start_time": "2022-10-12T17:53:31.271Z"
      },
      {
        "duration": 0,
        "start_time": "2022-10-12T17:53:31.272Z"
      },
      {
        "duration": 0,
        "start_time": "2022-10-12T17:53:31.273Z"
      },
      {
        "duration": 0,
        "start_time": "2022-10-12T17:53:31.274Z"
      },
      {
        "duration": 0,
        "start_time": "2022-10-12T17:53:31.275Z"
      },
      {
        "duration": 0,
        "start_time": "2022-10-12T17:53:31.276Z"
      },
      {
        "duration": 0,
        "start_time": "2022-10-12T17:53:31.277Z"
      },
      {
        "duration": 0,
        "start_time": "2022-10-12T17:53:31.295Z"
      },
      {
        "duration": 0,
        "start_time": "2022-10-12T17:53:31.296Z"
      },
      {
        "duration": 0,
        "start_time": "2022-10-12T17:53:31.296Z"
      },
      {
        "duration": 0,
        "start_time": "2022-10-12T17:53:31.298Z"
      },
      {
        "duration": 0,
        "start_time": "2022-10-12T17:53:31.298Z"
      },
      {
        "duration": 0,
        "start_time": "2022-10-12T17:53:31.299Z"
      },
      {
        "duration": 0,
        "start_time": "2022-10-12T17:53:31.300Z"
      },
      {
        "duration": 0,
        "start_time": "2022-10-12T17:53:31.301Z"
      },
      {
        "duration": 28,
        "start_time": "2022-10-12T17:53:42.084Z"
      },
      {
        "duration": 30,
        "start_time": "2022-10-12T17:53:47.902Z"
      },
      {
        "duration": 18,
        "start_time": "2022-10-12T17:53:48.572Z"
      },
      {
        "duration": 23,
        "start_time": "2022-10-12T17:53:49.179Z"
      },
      {
        "duration": 18,
        "start_time": "2022-10-12T17:53:50.043Z"
      },
      {
        "duration": 22,
        "start_time": "2022-10-12T17:53:50.805Z"
      },
      {
        "duration": 19,
        "start_time": "2022-10-12T17:53:58.064Z"
      },
      {
        "duration": 23,
        "start_time": "2022-10-12T17:53:58.683Z"
      },
      {
        "duration": 24,
        "start_time": "2022-10-12T17:53:59.369Z"
      },
      {
        "duration": 4,
        "start_time": "2022-10-12T17:55:23.843Z"
      },
      {
        "duration": 11,
        "start_time": "2022-10-12T17:56:54.848Z"
      },
      {
        "duration": 10,
        "start_time": "2022-10-12T17:56:55.408Z"
      },
      {
        "duration": 5,
        "start_time": "2022-10-12T18:01:15.414Z"
      },
      {
        "duration": 5,
        "start_time": "2022-10-12T18:03:37.582Z"
      },
      {
        "duration": 8,
        "start_time": "2022-10-12T18:10:40.090Z"
      },
      {
        "duration": 10,
        "start_time": "2022-10-12T18:10:50.052Z"
      },
      {
        "duration": 4,
        "start_time": "2022-10-12T18:10:53.638Z"
      },
      {
        "duration": 6,
        "start_time": "2022-10-12T18:13:19.906Z"
      }
    ],
    "colab": {
      "provenance": []
    },
    "kernelspec": {
      "display_name": "Python 3 (ipykernel)",
      "language": "python",
      "name": "python3"
    },
    "language_info": {
      "codemirror_mode": {
        "name": "ipython",
        "version": 3
      },
      "file_extension": ".py",
      "mimetype": "text/x-python",
      "name": "python",
      "nbconvert_exporter": "python",
      "pygments_lexer": "ipython3",
      "version": "3.9.5"
    },
    "toc": {
      "base_numbering": 1,
      "nav_menu": {
        "height": "215px",
        "width": "403px"
      },
      "number_sections": true,
      "sideBar": true,
      "skip_h1_title": true,
      "title_cell": "Table of Contents",
      "title_sidebar": "Contents",
      "toc_cell": false,
      "toc_position": {
        "height": "calc(100% - 180px)",
        "left": "10px",
        "top": "150px",
        "width": "285.825px"
      },
      "toc_section_display": true,
      "toc_window_display": false
    }
  },
  "nbformat": 4,
  "nbformat_minor": 0
}